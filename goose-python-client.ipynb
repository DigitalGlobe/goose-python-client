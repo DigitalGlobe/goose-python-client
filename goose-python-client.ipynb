{
 "cells": [
  {
   "cell_type": "markdown",
   "metadata": {},
   "source": [
    "# Goose Catalog Python Client Tutorial"
   ]
  },
  {
   "cell_type": "code",
   "execution_count": 1,
   "metadata": {},
   "outputs": [],
   "source": [
    "from dgcatalog import Stac\n",
    "from pprint import pprint"
   ]
  },
  {
   "cell_type": "markdown",
   "metadata": {},
   "source": [
    "All interaction with the catalog is done using a `Stac` object.\n",
    "\n",
    "For production use it is not necessary to specify the url parameter as the default catalog will be used.  But the `url` parameter can be used to point to test and development catalogs.\n",
    "\n",
    "There are two ways to specify GBDX credentials when constructing a `Stac` object.  If you already have a GBDX token you can provide it to the Stac constructor using the `token` parameter.  Or you can use the `username` and `password` parameters to specify GBDX credentials.  I this case the constructor calls GBDX to generate a token.  If the password is omitted then the constructor will prompt you for it.\n",
    "\n",
    "If `verbose` is True then `Stac` methods will print brief messages and web requests and responses to stdout.\n",
    "\n",
    "The `Stac` object does not handle token expiration.  If you use a `Stac` object long enough that its token expires then you must create a new `Stac` object."
   ]
  },
  {
   "cell_type": "markdown",
   "metadata": {},
   "source": [
    "Use one of the following service URL's depending on the environment:"
   ]
  },
  {
   "cell_type": "code",
   "execution_count": 2,
   "metadata": {},
   "outputs": [],
   "source": [
    "# service_url = 'https://api-test-2.discover.digitalglobe.com/v2/stac'\n",
    "service_url = 'https://api-dev-2.discover.digitalglobe.com/v2/stac'"
   ]
  },
  {
   "cell_type": "code",
   "execution_count": 3,
   "metadata": {},
   "outputs": [
    {
     "name": "stdin",
     "output_type": "stream",
     "text": [
      "Password:  ············\n"
     ]
    },
    {
     "name": "stdout",
     "output_type": "stream",
     "text": [
      "Requesting token from https://geobigdata.io/auth/v1/oauth/token\n",
      "Token successfully received.\n"
     ]
    }
   ],
   "source": [
    "stac = Stac(url=service_url, username='super_tester@mailinator.com', verbose=True)"
   ]
  },
  {
   "cell_type": "markdown",
   "metadata": {},
   "source": [
    "## Working with catalogs"
   ]
  },
  {
   "cell_type": "markdown",
   "metadata": {},
   "source": [
    "Every catalog has an associated JSON schema used to validate STAC items when they are added to the catalog.\n",
    "Associating a JSON schema with a catalog in this way is a DigitalGlobe extension to the STAC specification.\n",
    "\n",
    "When STAC items are inserted into a catalog they are also validated against a basic STAC item JSON schema,\n",
    "which verifies they are valid GeoJSON and have the minimum required STAC properties (like `datetime`).  So regardless\n",
    "of what JSON schema is associated with a catalog this additional validation is always performed.\n",
    "\n",
    "For this tutorial we simply use the GeoJSON Feature schema.  Since every STAC item is a GeoJSON feature this is suitable for demo purposes.  Later there will be STAC JSON schemas that are more suitable for validating STAC items."
   ]
  },
  {
   "cell_type": "code",
   "execution_count": 4,
   "metadata": {},
   "outputs": [],
   "source": [
    "import json\n",
    "import requests\n",
    "schema = json.loads(requests.get('http://geojson.org/schema/Feature.json').text)"
   ]
  },
  {
   "cell_type": "code",
   "execution_count": 5,
   "metadata": {},
   "outputs": [
    {
     "name": "stdout",
     "output_type": "stream",
     "text": [
      "POST: https://api-dev-2.discover.digitalglobe.com/v2/stac/catalog\n",
      "HTTP Status: 400\n",
      "Request ID: 66920c65-0180-48c8-9233-18b75eeaf1eb\n"
     ]
    },
    {
     "ename": "StacException",
     "evalue": "A catalog with the ID \"wv\" already exists (Request ID: 66920c65-0180-48c8-9233-18b75eeaf1eb)",
     "traceback": [
      "\u001b[1;31m---------------------------------------------------------------------------\u001b[0m",
      "\u001b[1;31mStacException\u001b[0m                             Traceback (most recent call last)",
      "\u001b[1;32m<ipython-input-5-7ea9c65d4724>\u001b[0m in \u001b[0;36m<module>\u001b[1;34m()\u001b[0m\n\u001b[0;32m     12\u001b[0m     \u001b[1;34m'stac_item_schema'\u001b[0m\u001b[1;33m:\u001b[0m \u001b[0mschema\u001b[0m\u001b[1;33m\u001b[0m\u001b[0m\n\u001b[0;32m     13\u001b[0m }\n\u001b[1;32m---> 14\u001b[1;33m \u001b[0mstac\u001b[0m\u001b[1;33m.\u001b[0m\u001b[0minsert_catalog\u001b[0m\u001b[1;33m(\u001b[0m\u001b[0mcatalog\u001b[0m\u001b[1;33m)\u001b[0m\u001b[1;33m\u001b[0m\u001b[0m\n\u001b[0m",
      "\u001b[1;32mC:\\src\\git\\goose-python-client\\dgcatalog\\stac.py\u001b[0m in \u001b[0;36minsert_catalog\u001b[1;34m(self, catalog)\u001b[0m\n\u001b[0;32m    135\u001b[0m         \"\"\"\n\u001b[0;32m    136\u001b[0m         \u001b[0murl\u001b[0m \u001b[1;33m=\u001b[0m \u001b[0mself\u001b[0m\u001b[1;33m.\u001b[0m\u001b[0m_make_url\u001b[0m\u001b[1;33m(\u001b[0m\u001b[1;34m'catalog'\u001b[0m\u001b[1;33m)\u001b[0m\u001b[1;33m\u001b[0m\u001b[0m\n\u001b[1;32m--> 137\u001b[1;33m         \u001b[0mself\u001b[0m\u001b[1;33m.\u001b[0m\u001b[0m_post\u001b[0m\u001b[1;33m(\u001b[0m\u001b[0murl\u001b[0m\u001b[1;33m,\u001b[0m \u001b[0mjson\u001b[0m\u001b[1;33m=\u001b[0m\u001b[0mcatalog\u001b[0m\u001b[1;33m)\u001b[0m\u001b[1;33m\u001b[0m\u001b[0m\n\u001b[0m\u001b[0;32m    138\u001b[0m \u001b[1;33m\u001b[0m\u001b[0m\n\u001b[0;32m    139\u001b[0m     \u001b[1;32mdef\u001b[0m \u001b[0mget_catalog\u001b[0m\u001b[1;33m(\u001b[0m\u001b[0mself\u001b[0m\u001b[1;33m,\u001b[0m \u001b[0mcatalog_id\u001b[0m\u001b[1;33m=\u001b[0m\u001b[1;32mNone\u001b[0m\u001b[1;33m)\u001b[0m\u001b[1;33m:\u001b[0m\u001b[1;33m\u001b[0m\u001b[0m\n",
      "\u001b[1;32mC:\\src\\git\\goose-python-client\\dgcatalog\\stac.py\u001b[0m in \u001b[0;36m_post\u001b[1;34m(self, url, **kwargs)\u001b[0m\n\u001b[0;32m    381\u001b[0m         \"\"\"\n\u001b[0;32m    382\u001b[0m         \u001b[0mself\u001b[0m\u001b[1;33m.\u001b[0m\u001b[0m_message\u001b[0m\u001b[1;33m(\u001b[0m\u001b[1;34m'POST: {}'\u001b[0m\u001b[1;33m.\u001b[0m\u001b[0mformat\u001b[0m\u001b[1;33m(\u001b[0m\u001b[0murl\u001b[0m\u001b[1;33m)\u001b[0m\u001b[1;33m)\u001b[0m\u001b[1;33m\u001b[0m\u001b[0m\n\u001b[1;32m--> 383\u001b[1;33m         \u001b[1;32mreturn\u001b[0m \u001b[0mself\u001b[0m\u001b[1;33m.\u001b[0m\u001b[0m_handle_response\u001b[0m\u001b[1;33m(\u001b[0m\u001b[0mrequests\u001b[0m\u001b[1;33m.\u001b[0m\u001b[0mpost\u001b[0m\u001b[1;33m(\u001b[0m\u001b[0murl\u001b[0m\u001b[1;33m,\u001b[0m \u001b[1;33m**\u001b[0m\u001b[0mkwargs\u001b[0m\u001b[1;33m,\u001b[0m \u001b[0mheaders\u001b[0m\u001b[1;33m=\u001b[0m\u001b[0mself\u001b[0m\u001b[1;33m.\u001b[0m\u001b[0m_create_http_headers\u001b[0m\u001b[1;33m(\u001b[0m\u001b[1;33m)\u001b[0m\u001b[1;33m)\u001b[0m\u001b[1;33m)\u001b[0m\u001b[1;33m\u001b[0m\u001b[0m\n\u001b[0m\u001b[0;32m    384\u001b[0m \u001b[1;33m\u001b[0m\u001b[0m\n\u001b[0;32m    385\u001b[0m     \u001b[1;32mdef\u001b[0m \u001b[0m_put\u001b[0m\u001b[1;33m(\u001b[0m\u001b[0mself\u001b[0m\u001b[1;33m,\u001b[0m \u001b[0murl\u001b[0m\u001b[1;33m,\u001b[0m \u001b[1;33m**\u001b[0m\u001b[0mkwargs\u001b[0m\u001b[1;33m)\u001b[0m\u001b[1;33m:\u001b[0m\u001b[1;33m\u001b[0m\u001b[0m\n",
      "\u001b[1;32mC:\\src\\git\\goose-python-client\\dgcatalog\\stac.py\u001b[0m in \u001b[0;36m_handle_response\u001b[1;34m(self, response)\u001b[0m\n\u001b[0;32m    466\u001b[0m             \u001b[1;32mif\u001b[0m \u001b[1;32mnot\u001b[0m \u001b[0mmessage\u001b[0m\u001b[1;33m:\u001b[0m\u001b[1;33m\u001b[0m\u001b[0m\n\u001b[0;32m    467\u001b[0m                 \u001b[0mmessage\u001b[0m \u001b[1;33m=\u001b[0m \u001b[1;34m'Error in catalog response.'\u001b[0m\u001b[1;33m\u001b[0m\u001b[0m\n\u001b[1;32m--> 468\u001b[1;33m             \u001b[1;32mraise\u001b[0m \u001b[0mStacException\u001b[0m\u001b[1;33m(\u001b[0m\u001b[0mmessage\u001b[0m\u001b[1;33m,\u001b[0m \u001b[0mresponse\u001b[0m\u001b[1;33m,\u001b[0m \u001b[0mrequest_id\u001b[0m\u001b[1;33m)\u001b[0m\u001b[1;33m\u001b[0m\u001b[0m\n\u001b[0m\u001b[0;32m    469\u001b[0m \u001b[1;33m\u001b[0m\u001b[0m\n\u001b[0;32m    470\u001b[0m         \u001b[1;31m# Unrecognized HTTP status code\u001b[0m\u001b[1;33m\u001b[0m\u001b[1;33m\u001b[0m\u001b[0m\n",
      "\u001b[1;31mStacException\u001b[0m: A catalog with the ID \"wv\" already exists (Request ID: 66920c65-0180-48c8-9233-18b75eeaf1eb)"
     ],
     "output_type": "error"
    }
   ],
   "source": [
    "catalog = {\n",
    "    'stac_version': '0.6.0',\n",
    "    'id': 'wv',\n",
    "    'title': 'DigitalGlobe WV',\n",
    "    'description': 'DigitalGlobe WV images',\n",
    "    'links': [\n",
    "        {\n",
    "            'rel': 'self',\n",
    "            'href': 'https://api.discover.digitalglobe.com/v2/stac/catalog/wv04'\n",
    "        }\n",
    "    ],\n",
    "    'stac_item_schema': schema\n",
    "}\n",
    "stac.insert_catalog(catalog)"
   ]
  },
  {
   "cell_type": "code",
   "execution_count": 6,
   "metadata": {},
   "outputs": [
    {
     "name": "stdout",
     "output_type": "stream",
     "text": [
      "Get catalog catalog_id=wv\n",
      "GET: https://api-dev-2.discover.digitalglobe.com/v2/stac/catalog/wv\n",
      "HTTP Status: 200\n",
      "Request ID: f9494d04-7d58-465e-876c-b3f088fca110\n"
     ]
    }
   ],
   "source": [
    "catalog = stac.get_catalog('wv')"
   ]
  },
  {
   "cell_type": "code",
   "execution_count": 7,
   "metadata": {},
   "outputs": [
    {
     "name": "stdout",
     "output_type": "stream",
     "text": [
      "{'description': 'DigitalGlobe WV images',\n",
      " 'id': 'wv',\n",
      " 'links': [...],\n",
      " 'stac_item_schema': {...},\n",
      " 'stac_version': '0.6.0',\n",
      " 'title': 'DigitalGlobe WV'}\n"
     ]
    }
   ],
   "source": [
    "pprint(catalog, depth=1)"
   ]
  },
  {
   "cell_type": "markdown",
   "metadata": {},
   "source": [
    "Catalogs can be updated.  A catalog's ID cannot be changed but its other properties can, including its schema.\n",
    "Note that if a catalog's schema is modified existing items in the catalog are not revalidated against the new schema."
   ]
  },
  {
   "cell_type": "code",
   "execution_count": 8,
   "metadata": {},
   "outputs": [
    {
     "name": "stdout",
     "output_type": "stream",
     "text": [
      "PUT: https://api-dev-2.discover.digitalglobe.com/v2/stac/catalog/wv\n",
      "HTTP Status: 204\n",
      "Request ID: 54fa2041-ee69-4bb2-b920-88672b1ad330\n"
     ]
    }
   ],
   "source": [
    "catalog['description'] = 'DigitalGlobe WorldView 4 images'\n",
    "stac.update_catalog(catalog)"
   ]
  },
  {
   "cell_type": "markdown",
   "metadata": {},
   "source": [
    "## Working with STAC items"
   ]
  },
  {
   "cell_type": "markdown",
   "metadata": {},
   "source": [
    "For this tutorial we will copy a few catalog records from the DUC database to the Goose database.  We will\n",
    "use the `duc_get_image` function in the `dgcatalog.tools` module.  It reads an image's catalog\n",
    "metadata from the DUC catalog service and returns it as a STAC item."
   ]
  },
  {
   "cell_type": "code",
   "execution_count": 9,
   "metadata": {},
   "outputs": [],
   "source": [
    "from dgcatalog.tools import duc_get_image, duc_query"
   ]
  },
  {
   "cell_type": "code",
   "execution_count": 10,
   "metadata": {},
   "outputs": [],
   "source": [
    "item = duc_get_image(image_id='10400100108FCE00')"
   ]
  },
  {
   "cell_type": "code",
   "execution_count": 11,
   "metadata": {},
   "outputs": [
    {
     "name": "stdout",
     "output_type": "stream",
     "text": [
      "{'assets': {...},\n",
      " 'geometry': {...},\n",
      " 'id': '10400100108FCE00',\n",
      " 'links': [...],\n",
      " 'properties': {...},\n",
      " 'type': 'Feature'}\n"
     ]
    }
   ],
   "source": [
    "pprint(item, depth=1)"
   ]
  },
  {
   "cell_type": "markdown",
   "metadata": {},
   "source": [
    "Inserting a new item into a catalog:"
   ]
  },
  {
   "cell_type": "markdown",
   "metadata": {},
   "source": [
    "Use head_item to perform an HTTP HEAD operation and determine whether a STAC item exists."
   ]
  },
  {
   "cell_type": "code",
   "execution_count": null,
   "metadata": {},
   "outputs": [],
   "source": [
    "stac.head_item()"
   ]
  },
  {
   "cell_type": "code",
   "execution_count": null,
   "metadata": {},
   "outputs": [],
   "source": [
    "stac.insert_item(item, 'wv')"
   ]
  },
  {
   "cell_type": "code",
   "execution_count": null,
   "metadata": {},
   "outputs": [],
   "source": [
    "item = stac.get_item('10400100108FCE00')"
   ]
  },
  {
   "cell_type": "code",
   "execution_count": null,
   "metadata": {},
   "outputs": [],
   "source": [
    "image_ids = [\"10200100782DBA00\", \"103001008817BC00\", \"102001007FB83A00\", \"102001007D14CD00\", \"102001007C528D00\"]\n",
    "items = duc_get_image(image_ids=image_ids)\n",
    "stac.insert_items(items, 'wv')"
   ]
  },
  {
   "cell_type": "markdown",
   "metadata": {},
   "source": [
    "Let's create some test data to search on.  Select a month's worth of WV04 images from DUC and insert them into the Goose \"wv\" catalog:"
   ]
  },
  {
   "cell_type": "code",
   "execution_count": null,
   "metadata": {},
   "outputs": [],
   "source": [
    "items = duc_query(\"collect_time_start >= '2017-01-01' and collect_time_start <= '2017-02-01' and vehicle_name = 'WV04'\")"
   ]
  },
  {
   "cell_type": "code",
   "execution_count": null,
   "metadata": {},
   "outputs": [],
   "source": [
    "len(items)"
   ]
  },
  {
   "cell_type": "code",
   "execution_count": null,
   "metadata": {},
   "outputs": [],
   "source": [
    "stac.insert_items(items, 'wv')"
   ]
  },
  {
   "cell_type": "markdown",
   "metadata": {},
   "source": [
    "## Working with item attachments"
   ]
  },
  {
   "cell_type": "markdown",
   "metadata": {},
   "source": [
    "The catalog supports associating an arbitrary JSON object with each STAC item called its \"attachments.\"  Propeties in the attachments are used to associate metadata with a STAC item that's not included in the item's feature itself.\n",
    "\n",
    "Some attachment properties may be recognized by the catalog itself.  For now the only such property is \"data-access-profile\".\n",
    "\n",
    "When inserting multiple STAC items using a feature collection you can specify an attachments property that is copied to each newly inserted item."
   ]
  },
  {
   "cell_type": "code",
   "execution_count": 9,
   "metadata": {},
   "outputs": [
    {
     "name": "stdout",
     "output_type": "stream",
     "text": [
      "POST: https://api-dev-2.discover.digitalglobe.com/v2/stac/catalog/wv/item\n",
      "HTTP Status: 201\n",
      "Request ID: bc458039-5854-4b73-9f53-1742a714e8ce\n"
     ]
    }
   ],
   "source": [
    "image_ids = ['10500100144DD900', '102001008164D600', '1020010080207100']\n",
    "items = duc_get_image(image_ids=image_ids)\n",
    "\n",
    "attachments = {\n",
    "    'data-access-profile': {\n",
    "        'policies': [\n",
    "            {\n",
    "                'startDate': '2019-02-01T00:00:00Z',\n",
    "                'endDate': '2019-03-01T00:00:00Z',\n",
    "                'allow': ['customer.001'],\n",
    "                'deny': []\n",
    "            },\n",
    "            {\n",
    "                'startDate': '2019-03-01T00:00:00Z',\n",
    "                'endDate': '9999-12-31T23:59:59Z',\n",
    "                'allow': ['dataaccess.public'],\n",
    "                'deny': []\n",
    "            }\n",
    "        ]\n",
    "    }\n",
    "}\n",
    "\n",
    "stac.insert_items(items, 'wv', attachments)"
   ]
  },
  {
   "cell_type": "markdown",
   "metadata": {},
   "source": [
    "Get the attachments for one of the images just inserted."
   ]
  },
  {
   "cell_type": "code",
   "execution_count": 10,
   "metadata": {},
   "outputs": [
    {
     "name": "stdout",
     "output_type": "stream",
     "text": [
      "GET: https://api-dev-2.discover.digitalglobe.com/v2/stac/catalog/wv/item/10500100144DD900/attachments\n",
      "HTTP Status: 200\n",
      "Request ID: 6cda2f03-2a30-4b2d-99d0-e5a1d7221bca\n"
     ]
    }
   ],
   "source": [
    "att = stac.get_attachments('10500100144DD900', 'wv')"
   ]
  },
  {
   "cell_type": "code",
   "execution_count": 11,
   "metadata": {},
   "outputs": [
    {
     "data": {
      "text/plain": [
       "{'data-access-profile': {'policies': [{'deny': [],\n",
       "    'allow': ['customer.001'],\n",
       "    'endDate': '2019-03-01T00:00:00Z',\n",
       "    'startDate': '2019-02-01T00:00:00Z'},\n",
       "   {'deny': [],\n",
       "    'allow': ['dataaccess.public'],\n",
       "    'endDate': '9999-12-31T23:59:59Z',\n",
       "    'startDate': '2019-03-01T00:00:00Z'}]}}"
      ]
     },
     "execution_count": 11,
     "metadata": {},
     "output_type": "execute_result"
    }
   ],
   "source": [
    "att"
   ]
  },
  {
   "cell_type": "markdown",
   "metadata": {},
   "source": [
    "You can update an item's attachments.  Here we remove the first policy in the array and associate it back with the item:"
   ]
  },
  {
   "cell_type": "code",
   "execution_count": 12,
   "metadata": {},
   "outputs": [
    {
     "data": {
      "text/plain": [
       "{'deny': [],\n",
       " 'allow': ['customer.001'],\n",
       " 'endDate': '2019-03-01T00:00:00Z',\n",
       " 'startDate': '2019-02-01T00:00:00Z'}"
      ]
     },
     "execution_count": 12,
     "metadata": {},
     "output_type": "execute_result"
    }
   ],
   "source": [
    "att['data-access-profile']['policies'].pop(0)"
   ]
  },
  {
   "cell_type": "code",
   "execution_count": 13,
   "metadata": {},
   "outputs": [
    {
     "name": "stdout",
     "output_type": "stream",
     "text": [
      "PUT: https://api-dev-2.discover.digitalglobe.com/v2/stac/catalog/wv/item/10500100144DD900/attachments\n",
      "HTTP Status: 204\n",
      "Request ID: 39b86b1f-440f-4647-9fc6-e55aa968731c\n"
     ]
    }
   ],
   "source": [
    "stac.update_attachments('10500100144DD900', 'wv', att)"
   ]
  },
  {
   "cell_type": "markdown",
   "metadata": {},
   "source": [
    "Read it back to make sure it was updated."
   ]
  },
  {
   "cell_type": "code",
   "execution_count": 14,
   "metadata": {},
   "outputs": [
    {
     "name": "stdout",
     "output_type": "stream",
     "text": [
      "GET: https://api-dev-2.discover.digitalglobe.com/v2/stac/catalog/wv/item/10500100144DD900/attachments\n",
      "HTTP Status: 200\n",
      "Request ID: 50ea8e87-a0f8-4257-a3d9-c6fb08dab14a\n"
     ]
    }
   ],
   "source": [
    "att = stac.get_attachments('10500100144DD900', 'wv')"
   ]
  },
  {
   "cell_type": "code",
   "execution_count": 15,
   "metadata": {},
   "outputs": [
    {
     "data": {
      "text/plain": [
       "{'data-access-profile': {'policies': [{'deny': [],\n",
       "    'allow': ['dataaccess.public'],\n",
       "    'endDate': '9999-12-31T23:59:59Z',\n",
       "    'startDate': '2019-03-01T00:00:00Z'}]}}"
      ]
     },
     "execution_count": 15,
     "metadata": {},
     "output_type": "execute_result"
    }
   ],
   "source": [
    "att"
   ]
  },
  {
   "cell_type": "markdown",
   "metadata": {},
   "source": [
    "Each STAC item has its own attachments.  When we inserted the three images above and\n",
    "included attachments with them the attachments were copied for each STAC item.  Read the\n",
    "attachments for another of the images to see that its attachments are unchanged."
   ]
  },
  {
   "cell_type": "code",
   "execution_count": 16,
   "metadata": {},
   "outputs": [
    {
     "name": "stdout",
     "output_type": "stream",
     "text": [
      "GET: https://api-dev-2.discover.digitalglobe.com/v2/stac/catalog/wv/item/102001008164D600/attachments\n",
      "HTTP Status: 200\n",
      "Request ID: 9cababca-cb0b-4fd7-89df-3e00b784bcbd\n"
     ]
    }
   ],
   "source": [
    "att = stac.get_attachments('102001008164D600', 'wv')"
   ]
  },
  {
   "cell_type": "code",
   "execution_count": 17,
   "metadata": {},
   "outputs": [
    {
     "data": {
      "text/plain": [
       "{'data-access-profile': {'policies': [{'deny': [],\n",
       "    'allow': ['customer.001'],\n",
       "    'endDate': '2019-03-01T00:00:00Z',\n",
       "    'startDate': '2019-02-01T00:00:00Z'},\n",
       "   {'deny': [],\n",
       "    'allow': ['dataaccess.public'],\n",
       "    'endDate': '9999-12-31T23:59:59Z',\n",
       "    'startDate': '2019-03-01T00:00:00Z'}]}}"
      ]
     },
     "execution_count": 17,
     "metadata": {},
     "output_type": "execute_result"
    }
   ],
   "source": [
    "att"
   ]
  },
  {
   "cell_type": "code",
   "execution_count": 18,
   "metadata": {},
   "outputs": [
    {
     "name": "stdout",
     "output_type": "stream",
     "text": [
      "DELETE: https://api-dev-2.discover.digitalglobe.com/v2/stac/catalog/wv/item/102001008164D600/attachments\n",
      "HTTP Status: 204\n",
      "Request ID: c3ef6b3a-c06e-410b-bdaf-2d209ea0a3df\n"
     ]
    }
   ],
   "source": [
    "stac.delete_attachments('102001008164D600', 'wv')"
   ]
  },
  {
   "cell_type": "markdown",
   "metadata": {},
   "source": [
    "## Searching catalogs"
   ]
  },
  {
   "cell_type": "markdown",
   "metadata": {},
   "source": [
    "Some notes on searching:\n",
    "    \n",
    "* A search may be performed against the entire database or against a particular catalog.\n",
    "Specify the `catalog_id` parameter in the call to `search` to search against a particular catalog, otherwise the search is against the entire database.\n",
    "* The maximum number of items returned by any search is 1000.  For larger resultsets use multiple calls to `search` with paging and ordering to retrieve the full set of results."
   ]
  },
  {
   "cell_type": "markdown",
   "metadata": {},
   "source": [
    "### Searching by date and time\n",
    "Note that when search by datetime the start is inclusive and the end is exclusive."
   ]
  },
  {
   "cell_type": "code",
   "execution_count": null,
   "metadata": {},
   "outputs": [],
   "source": [
    "from datetime import datetime\n",
    "items = stac.search(catalog_id='wv', start_datetime=datetime(2017, 1, 1), end_datetime=datetime(2017, 1, 2))"
   ]
  },
  {
   "cell_type": "code",
   "execution_count": null,
   "metadata": {},
   "outputs": [],
   "source": [
    "stac._last_response.text"
   ]
  },
  {
   "cell_type": "markdown",
   "metadata": {},
   "source": [
    "### Searching with a property filter\n",
    "\n",
    "Use the `query` parameter to filter results.  Filtering is performed on the server side against properties in the STAC item's \"properties\" dictionary.\n",
    "\n",
    "The general form of a query filter is \"property operation value\".\n",
    "\n",
    "* \"property\" is the name of a STAC item property\n",
    "* \"operation\" is one of the following:\n",
    "    * Comparison operators:  =, !=, <>, <, >, <=, >=\n",
    "    * \"is\" and \"is not\" for comparing with booleans and null.\n",
    "    * \"like\" and \"not like\" for comparing strings with SQL patterns.\n",
    "    * \"in\" for comparing with a list of integers or strings.\n",
    "* \"value\" is a number, string, boolean, or null.\n",
    "    * Exponential notation for floating-point values is not supported.\n",
    "    * Strings are delimited by single quotes.  There is no facility for escaping single quotes inside the string or for any other escape sequences.\n",
    "    * A boolean value is \"true\" or \"false\", specified without quotes, and case-insensitive.\n",
    "    * A null value is \"null\", specified without quotes, and case-insensitive.\n",
    "\n",
    "Filters can be combined using the operators \"and\" and \"or\".  The \"and\" operator takes precedence over the \"or\" operator.  Parenthesis can be used when combining filters with \"and\" and \"or\".\n",
    "\n",
    "String comparisons are case-sensitive.\n",
    "\n",
    "These are examples of valid query filters:\n",
    "\n",
    "* vendor = 'DigitalGlobe'\n",
    "* eo:cloud_cover < 20\n",
    "* dg:rda_available is true\n",
    "* dg:rda_available is false\n",
    "* eo:gsd < 1.5\n",
    "* eo:epsg is null\n",
    "* eo:epsg in (32613, 26913, 26914)\n",
    "* dg:sun_elevation_min < 20 and dg:sun_azimuth_max < 30\n",
    "* (vendor = 'DigitalGlobe' and eo:platform = 'WORLDVIEW02') or (vendor = 'KOMPSAT' and eo:platform = 'KOMPSAT3A')\n",
    "\n",
    "It is not an error to specify a property that an item doesn't have, but the item will\n",
    "not be returned by the query no matter what other filters are provided.\n",
    "\n",
    "Properties with nested values are not currently supported for filtering on.\n",
    "\n",
    "A property filter is not intended to search on an item's `datetime` property.\n",
    "Use the start_datetime and end_datetime seach parameters for that.\n",
    "    "
   ]
  },
  {
   "cell_type": "code",
   "execution_count": null,
   "metadata": {},
   "outputs": [],
   "source": [
    "items = stac.search(start_datetime=datetime(2015, 1, 1), end_datetime=datetime(2016, 1, 1), query='eo:cloud < 10')"
   ]
  },
  {
   "cell_type": "code",
   "execution_count": null,
   "metadata": {},
   "outputs": [],
   "source": [
    "len(items)"
   ]
  },
  {
   "cell_type": "markdown",
   "metadata": {},
   "source": [
    "# Bulk loads"
   ]
  },
  {
   "cell_type": "code",
   "execution_count": null,
   "metadata": {},
   "outputs": [],
   "source": [
    "from osgeo import gdal\n",
    "from osgeo import ogr"
   ]
  },
  {
   "cell_type": "code",
   "execution_count": null,
   "metadata": {},
   "outputs": [],
   "source": [
    "daShapefile = r\"C:\\Temp\\Voting_Centers_and_Ballot_Sites.shp\"\n",
    "\n",
    "dataSource = ogr.Open(daShapefile)\n",
    "daLayer = dataSource.GetLayer(0)\n",
    "layerDefinition = daLayer.GetLayerDefn()\n",
    "\n",
    "\n",
    "for i in range(layerDefinition.GetFieldCount()):\n",
    "    print layerDefinition.GetFieldDefn(i).GetName()"
   ]
  }
 ],
 "metadata": {
  "kernelspec": {
   "display_name": "Python 3",
   "language": "python",
   "name": "python3"
  },
  "language_info": {
   "codemirror_mode": {
    "name": "ipython",
    "version": 3
   },
   "file_extension": ".py",
   "mimetype": "text/x-python",
   "name": "python",
   "nbconvert_exporter": "python",
   "pygments_lexer": "ipython3",
   "version": "3.6.6"
  }
 },
 "nbformat": 4,
 "nbformat_minor": 2
}
