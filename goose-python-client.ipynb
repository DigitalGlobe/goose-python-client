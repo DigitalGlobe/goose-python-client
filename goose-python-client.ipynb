{
 "cells": [
  {
   "cell_type": "markdown",
   "metadata": {},
   "source": [
    "# Goose Catalog Python Client Tutorial"
   ]
  },
  {
   "cell_type": "code",
   "execution_count": null,
   "metadata": {},
   "outputs": [],
   "source": [
    "from dgcatalog import Stac"
   ]
  },
  {
   "cell_type": "markdown",
   "metadata": {},
   "source": [
    "All interaction with the catalog is done using a `Stac` object.\n",
    "\n",
    "For production use it is not necessary to specify the url parameter as the default catalog will be used.  But the `url` parameter can be used to point to test and development catalogs.\n",
    "\n",
    "There are two ways to specify GBDX credentials when constructing a `Stac` object.  If you already have a GBDX token you can provide it to the Stac constructor using the `token` parameter.  Or you can use the `username` and `password` parameters to specify GBDX credentials.  I this case the constructor calls GBDX to generate a token.  If the password is omitted then the constructor will prompt you for it.\n",
    "\n",
    "If `verbose` is True then `Stac` methods will print brief messages and web requests and responses to stdout.\n",
    "\n",
    "The `Stac` object does not handle token expiration.  If you use a `Stac` object long enough that its token expires then you must create a new `Stac` object."
   ]
  },
  {
   "cell_type": "code",
   "execution_count": null,
   "metadata": {},
   "outputs": [],
   "source": [
    "stac = Stac(url='https://api-test-2.discover.digitalglobe.com/v2/stac', username='super_tester@mailinator.com', verbose=True)"
   ]
  },
  {
   "cell_type": "markdown",
   "metadata": {},
   "source": [
    "## Working with catalogs"
   ]
  },
  {
   "cell_type": "markdown",
   "metadata": {},
   "source": [
    "Every catalog has an associated JSON schema used to validate STAC items when they are added to the catalog.\n",
    "Associating a JSON schema with a catalog in this way is a DigitalGlobe extension to the STAC specification.\n",
    "\n",
    "When STAC items are inserted into a catalog they are also validated against a basic STAC item JSON schema,\n",
    "which verifies they are valid GeoJSON and have the minimum required STAC properties (like `datetime`).  So regardless\n",
    "of what JSON schema is associated with a catalog this additional validation is always performed.\n",
    "\n",
    "For this example we use the basic STAC item schema included with the STAC specification."
   ]
  },
  {
   "cell_type": "code",
   "execution_count": null,
   "metadata": {},
   "outputs": [],
   "source": [
    "import json\n",
    "import requests\n",
    "schema = json.loads(requests.get('https://raw.githubusercontent.com/radiantearth/stac-spec/master/item-spec/json-schema/item.json').text)"
   ]
  },
  {
   "cell_type": "code",
   "execution_count": null,
   "metadata": {},
   "outputs": [],
   "source": [
    "catalog = {\n",
    "    'stac_version': '0.6.0',\n",
    "    'id': 'wv04',\n",
    "    'title': 'DigitalGlobe WV04',\n",
    "    'description': 'DigitalGlobe WV04 images',\n",
    "    'links': [\n",
    "        {\n",
    "            'rel': 'self',\n",
    "            'href': 'https://api.discover.digitalglobe.com/v2/stac/catalog/wv04'\n",
    "        }\n",
    "    ],\n",
    "    'stac_item_schema': schema\n",
    "}\n",
    "stac.insert_catalog(catalog)"
   ]
  },
  {
   "cell_type": "code",
   "execution_count": null,
   "metadata": {},
   "outputs": [],
   "source": [
    "catalog = stac.get_catalog('wv04')"
   ]
  },
  {
   "cell_type": "code",
   "execution_count": null,
   "metadata": {},
   "outputs": [],
   "source": [
    "catalog"
   ]
  },
  {
   "cell_type": "markdown",
   "metadata": {},
   "source": [
    "Catalogs can be updated.  A catalog's ID cannot be changed but its other properties can, including its schema.\n",
    "Note that if a catalog's schema is modified existing items in the catalog are not revalidated against the new schema."
   ]
  },
  {
   "cell_type": "code",
   "execution_count": null,
   "metadata": {},
   "outputs": [],
   "source": [
    "catalog['Description'] = 'DigitalGlobe WorldView 4 images'\n",
    "stac.update_catalog(catalog)"
   ]
  },
  {
   "cell_type": "code",
   "execution_count": null,
   "metadata": {},
   "outputs": [],
   "source": [
    "stac.update_catalog({'id': 'asdf'})"
   ]
  },
  {
   "cell_type": "markdown",
   "metadata": {},
   "source": [
    "## Selecting STAC items"
   ]
  },
  {
   "cell_type": "markdown",
   "metadata": {},
   "source": [
    "Inserting a new item into a catalog:"
   ]
  },
  {
   "cell_type": "code",
   "execution_count": null,
   "metadata": {},
   "outputs": [],
   "source": []
  },
  {
   "cell_type": "code",
   "execution_count": null,
   "metadata": {},
   "outputs": [],
   "source": [
    "stac.get_item('10400100108FCE00')"
   ]
  }
 ],
 "metadata": {
  "kernelspec": {
   "display_name": "Python 3",
   "language": "python",
   "name": "python3"
  },
  "language_info": {
   "codemirror_mode": {
    "name": "ipython",
    "version": 3
   },
   "file_extension": ".py",
   "mimetype": "text/x-python",
   "name": "python",
   "nbconvert_exporter": "python",
   "pygments_lexer": "ipython3",
   "version": "3.6.7"
  }
 },
 "nbformat": 4,
 "nbformat_minor": 2
}
