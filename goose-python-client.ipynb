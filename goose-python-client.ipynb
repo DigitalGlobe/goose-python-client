{
 "cells": [
  {
   "cell_type": "markdown",
   "metadata": {},
   "source": [
    "# Goose Catalog Python Client Tutorial"
   ]
  },
  {
   "cell_type": "code",
   "execution_count": 1,
   "metadata": {},
   "outputs": [],
   "source": [
    "from dgcatalog import Stac\n",
    "from pprint import pprint"
   ]
  },
  {
   "cell_type": "markdown",
   "metadata": {},
   "source": [
    "All interaction with the catalog is done using a `Stac` object.\n",
    "\n",
    "For production use it is not necessary to specify the url parameter as the default catalog will be used.  But the `url` parameter can be used to point to test and development catalogs.\n",
    "\n",
    "There are two ways to specify GBDX credentials when constructing a `Stac` object.  If you already have a GBDX token you can provide it to the Stac constructor using the `token` parameter.  Or you can use the `username` and `password` parameters to specify GBDX credentials.  I this case the constructor calls GBDX to generate a token.  If the password is omitted then the constructor will prompt you for it.\n",
    "\n",
    "If `verbose` is True then `Stac` methods will print brief messages and web requests and responses to stdout.\n",
    "\n",
    "The `Stac` object does not handle token expiration.  If you use a `Stac` object long enough that its token expires then you must create a new `Stac` object."
   ]
  },
  {
   "cell_type": "markdown",
   "metadata": {},
   "source": [
    "Use one of the following service URL's depending on the environment:"
   ]
  },
  {
   "cell_type": "code",
   "execution_count": 2,
   "metadata": {},
   "outputs": [],
   "source": [
    "# service_url = 'https://api-test-2.discover.digitalglobe.com/v2/stac'\n",
    "# service_url = 'https://api-dev-2.discover.digitalglobe.com/v2/stac'\n",
    "service_url = 'https://api-2.discover.digitalglobe.com/v2/stac'"
   ]
  },
  {
   "cell_type": "code",
   "execution_count": 3,
   "metadata": {},
   "outputs": [
    {
     "name": "stdout",
     "output_type": "stream",
     "text": [
      "Password: ········\n",
      "Requesting token from https://geobigdata.io/auth/v1/oauth/token\n",
      "Token successfully received.\n"
     ]
    }
   ],
   "source": [
    "stac = Stac(url=service_url, username='super_tester@mailinator.com', verbose=True)"
   ]
  },
  {
   "cell_type": "markdown",
   "metadata": {},
   "source": [
    "# WV04 search examples"
   ]
  },
  {
   "cell_type": "markdown",
   "metadata": {},
   "source": [
    "First search over an area in Colorado."
   ]
  },
  {
   "cell_type": "code",
   "execution_count": 4,
   "metadata": {},
   "outputs": [
    {
     "name": "stdout",
     "output_type": "stream",
     "text": [
      "POST: https://api-2.discover.digitalglobe.com/v2/stac/search\n",
      "HTTP Status: 200\n",
      "Request ID: bf777c04-5480-49e2-89e8-1aebb5c96f9c\n",
      "Elapsed seconds: 2.597763\n"
     ]
    }
   ],
   "source": [
    "items = stac.search(bbox=[-106.5, 40, -106, 40.5])"
   ]
  },
  {
   "cell_type": "markdown",
   "metadata": {},
   "source": [
    "Print some properties of the items returned."
   ]
  },
  {
   "cell_type": "code",
   "execution_count": 5,
   "metadata": {},
   "outputs": [
    {
     "data": {
      "text/plain": [
       "[('WORLDVIEW04', 0.17204629),\n",
       " ('WORLDVIEW04', 2.6806977),\n",
       " ('WORLDVIEW04', 5.1619554),\n",
       " ('WORLDVIEW04', 5.343196)]"
      ]
     },
     "execution_count": 5,
     "metadata": {},
     "output_type": "execute_result"
    }
   ],
   "source": [
    "[\n",
    "    (item['properties']['eo:platform'], item['properties']['eo:cloud_cover'])\n",
    "    for item in items\n",
    "]"
   ]
  },
  {
   "cell_type": "markdown",
   "metadata": {},
   "source": [
    "Search for WV04 images in an area over Colorado.  Only images with cloud cover percent below 20% are returned:"
   ]
  },
  {
   "cell_type": "code",
   "execution_count": 6,
   "metadata": {},
   "outputs": [
    {
     "name": "stdout",
     "output_type": "stream",
     "text": [
      "POST: https://api-2.discover.digitalglobe.com/v2/stac/search\n",
      "HTTP Status: 200\n",
      "Request ID: 2a8cc60d-3f38-4f33-8239-2d7174a27d51\n",
      "Elapsed seconds: 1.818656\n"
     ]
    }
   ],
   "source": [
    "items = stac.search(bbox=[-106.5, 40, -106, 40.5], query=\"eo:platform='WORLDVIEW04' and eo:cloud_cover < 5\")"
   ]
  },
  {
   "cell_type": "code",
   "execution_count": 7,
   "metadata": {},
   "outputs": [
    {
     "data": {
      "text/plain": [
       "2"
      ]
     },
     "execution_count": 7,
     "metadata": {},
     "output_type": "execute_result"
    }
   ],
   "source": [
    "len(items)"
   ]
  },
  {
   "cell_type": "code",
   "execution_count": 8,
   "metadata": {},
   "outputs": [
    {
     "name": "stdout",
     "output_type": "stream",
     "text": [
      "{'assets': {},\n",
      " 'geometry': {'coordinates': [[[-106.399763246126, 39.5871126751837],\n",
      "                               [-106.400030236603, 39.6182674043723],\n",
      "                               [-106.40082535579, 39.6511323049505],\n",
      "                               [-106.39964782195, 39.6828261702596],\n",
      "                               [-106.398943026485, 39.715034658781],\n",
      "                               [-106.398746046759, 39.7203962983793],\n",
      "                               [-106.398730017936, 39.7230980002722],\n",
      "                               [-106.398512394396, 39.7267561395016],\n",
      "                               [-106.397765645994, 39.7470820678722],\n",
      "                               [-106.396181141685, 39.7789859668921],\n",
      "                               [-106.396283557033, 39.8124711820583],\n",
      "                               [-106.397176066328, 39.8469995451619],\n",
      "                               [-106.398117844242, 39.8819442951468],\n",
      "                               [-106.398515595927, 39.9167029291437],\n",
      "                               [-106.398806076951, 39.9517035093355],\n",
      "                               [-106.39932467771, 39.9871756608863],\n",
      "                               [-106.39921066687, 40.0223445843101],\n",
      "                               [-106.399371470206, 40.0325344772807],\n",
      "                               [-106.586092202438, 40.054037734738],\n",
      "                               [-106.586067657727, 40.044025060043],\n",
      "                               [-106.585589481326, 40.0084024167579],\n",
      "                               [-106.585790059538, 39.9736626194699],\n",
      "                               [-106.586246618509, 39.9393082886855],\n",
      "                               [-106.587121930195, 39.9055469788072],\n",
      "                               [-106.583256236761, 39.8681021307775],\n",
      "                               [-106.584486746601, 39.8351376245211],\n",
      "                               [-106.58548790529, 39.8022345042099],\n",
      "                               [-106.583665104944, 39.7674187248954],\n",
      "                               [-106.581085150138, 39.7323764261884],\n",
      "                               [-106.581574360513, 39.6997630736776],\n",
      "                               [-106.583390370971, 39.6681762503436],\n",
      "                               [-106.583945112479, 39.6358846403347],\n",
      "                               [-106.581725286319, 39.602065479614],\n",
      "                               [-106.580865794447, 39.5693122109636],\n",
      "                               [-106.5785943255, 39.5359816909787],\n",
      "                               [-106.576946442428, 39.503241668643],\n",
      "                               [-106.576494520646, 39.4787907441529],\n",
      "                               [-106.39995099035, 39.4669516867434],\n",
      "                               [-106.399761177297, 39.4908955980181],\n",
      "                               [-106.401322408527, 39.5233340892319],\n",
      "                               [-106.402165062501, 39.5555915596545],\n",
      "                               [-106.401707376528, 39.5613615905823],\n",
      "                               [-106.401747309855, 39.5632536349285],\n",
      "                               [-106.399763246126, 39.5871126751837]]],\n",
      "              'type': 'Polygon'},\n",
      " 'id': 'f1d0a8d8-82f9-45ff-b557-40449ed8bbbe-inv',\n",
      " 'links': [{'href': 'https://api.discover.digitalglobe.com/v2/stac/catalog/dg/item/f1d0a8d8-82f9-45ff-b557-40449ed8bbbe-inv',\n",
      "            'rel': 'self'}],\n",
      " 'properties': {'datetime': '2018-09-07T18:02:47.538220Z',\n",
      "                'dg:acquisition_rev_number': 9869,\n",
      "                'dg:bits_per_pixel': 16,\n",
      "                'dg:cavis_association': None,\n",
      "                'dg:collect_time_end': '2018-09-07T18:02:56.231749Z',\n",
      "                'dg:collect_time_start': '2018-09-07T18:02:47.538220Z',\n",
      "                'dg:multi_resolution_avg': 0.37895070141970655,\n",
      "                'dg:multi_resolution_end': 0.39473709209825514,\n",
      "                'dg:multi_resolution_max': 0.39473709209825514,\n",
      "                'dg:multi_resolution_min': 0.36149890997149137,\n",
      "                'dg:multi_resolution_start': 0.36149890997149137,\n",
      "                'dg:off_nadir_end': 28.847335106335155,\n",
      "                'dg:off_nadir_max': 28.847335106335155,\n",
      "                'dg:off_nadir_min': 23.32632579805741,\n",
      "                'dg:off_nadir_start': 23.32632579805741,\n",
      "                'dg:pan_resolution_avg': 0.37895070141970655,\n",
      "                'dg:pan_resolution_end': 0.39473709209825514,\n",
      "                'dg:pan_resolution_max': 0.39473709209825514,\n",
      "                'dg:pan_resolution_min': 0.36149890997149137,\n",
      "                'dg:pan_resolution_start': 0.36149890997149137,\n",
      "                'dg:processing_options': [],\n",
      "                'dg:scan_direction': 'reverse',\n",
      "                'dg:stereo_pair_identifiers': [],\n",
      "                'dg:storage': None,\n",
      "                'dg:sun_azimuth_max': 154.00917778622465,\n",
      "                'dg:sun_azimuth_min': 153.6125973741958,\n",
      "                'dg:sun_elevation_max': 53.865269958080496,\n",
      "                'dg:sun_elevation_min': 53.353568724553135,\n",
      "                'dg:swir_association': None,\n",
      "                'dg:target_azimuth_end': 323.8158072556916,\n",
      "                'dg:target_azimuth_max': 323.8158072556916,\n",
      "                'dg:target_azimuth_min': 305.447827290328,\n",
      "                'dg:target_azimuth_start': 305.447827290328,\n",
      "                'dg:vnir_association': None,\n",
      "                'eo:azimuth': 316.3953915797678,\n",
      "                'eo:bands': [{'center_wavelength': 480, 'name': 'blue'},\n",
      "                             {'center_wavelength': 545, 'name': 'green'},\n",
      "                             {'center_wavelength': 672.5, 'name': 'red'},\n",
      "                             {'center_wavelength': 850, 'name': 'nir'},\n",
      "                             {'center_wavelength': 625, 'name': 'pan'}],\n",
      "                'eo:cloud_cover': 0.17204629,\n",
      "                'eo:constellation': 'WORLDVIEW',\n",
      "                'eo:epsg': None,\n",
      "                'eo:gsd': 0.37895070141970655,\n",
      "                'eo:instrument': 'VNIR',\n",
      "                'eo:off_nadir': 26.327709371669805,\n",
      "                'eo:platform': 'WORLDVIEW04',\n",
      "                'eo:sun_azimuth': 153.83318063649986,\n",
      "                'eo:sun_elevation': 53.577683030566746,\n",
      "                'vendor': 'DigitalGlobe'},\n",
      " 'type': 'Feature'}\n"
     ]
    }
   ],
   "source": [
    "pprint(items[0])"
   ]
  },
  {
   "cell_type": "code",
   "execution_count": 9,
   "metadata": {},
   "outputs": [
    {
     "data": {
      "application/vnd.jupyter.widget-view+json": {
       "model_id": "b36aea519d42442185fee9e3652907a8",
       "version_major": 2,
       "version_minor": 0
      },
      "text/plain": [
       "MapView(layout=Layout(height='400px', width='100%'))"
      ]
     },
     "metadata": {},
     "output_type": "display_data"
    }
   ],
   "source": [
    "import arcgis.features\n",
    "from arcgis.gis import GIS\n",
    "\n",
    "collection = {\n",
    "    'type': 'FeatureCollection',\n",
    "    'features': items\n",
    "}\n",
    "features = arcgis.features.FeatureSet.from_geojson(collection)\n",
    "\n",
    "mygis = GIS()\n",
    "map = mygis.map()\n",
    "map.draw(features)\n",
    "map"
   ]
  },
  {
   "cell_type": "markdown",
   "metadata": {},
   "source": [
    "## Working with catalogs"
   ]
  },
  {
   "cell_type": "markdown",
   "metadata": {},
   "source": [
    "Every catalog has an associated JSON schema used to validate STAC items when they are added to the catalog.\n",
    "Associating a JSON schema with a catalog in this way is a DigitalGlobe extension to the STAC specification.\n",
    "\n",
    "When STAC items are inserted into a catalog they are also validated against a basic STAC item JSON schema,\n",
    "which verifies they are valid GeoJSON and have the minimum required STAC properties (like `datetime`).  So regardless\n",
    "of what JSON schema is associated with a catalog this additional validation is always performed.\n",
    "\n",
    "For this tutorial we simply use the GeoJSON Feature schema.  Since every STAC item is a GeoJSON feature this is suitable for demo purposes.  Later there will be STAC JSON schemas that are more suitable for validating STAC items."
   ]
  },
  {
   "cell_type": "code",
   "execution_count": 4,
   "metadata": {},
   "outputs": [],
   "source": [
    "import json\n",
    "import requests\n",
    "from pprint import pprint"
   ]
  },
  {
   "cell_type": "markdown",
   "metadata": {},
   "source": [
    "Here is how to fetch an existing catalog, like the \"maxar\" catalog currently containing all WV04 images:"
   ]
  },
  {
   "cell_type": "code",
   "execution_count": 11,
   "metadata": {},
   "outputs": [
    {
     "name": "stdout",
     "output_type": "stream",
     "text": [
      "Get catalog catalog_id=maxar\n",
      "GET: https://api-2.discover.digitalglobe.com/v2/stac/catalog/maxar\n",
      "HTTP Status: 200\n",
      "Request ID: 3d0dad2a-0050-425f-a782-64c0c83f02de\n",
      "Elapsed seconds: 1.415249\n",
      "{'description': 'DigitalGlobe STAC catalog',\n",
      " 'id': 'maxar',\n",
      " 'links': [...],\n",
      " 'stac_item_schema': {...},\n",
      " 'stac_version': '0.6.0',\n",
      " 'title': 'DigitalGlobe'}\n"
     ]
    }
   ],
   "source": [
    "maxar = stac.get_catalog('maxar')\n",
    "pprint(maxar, depth=1)"
   ]
  },
  {
   "cell_type": "code",
   "execution_count": 5,
   "metadata": {},
   "outputs": [
    {
     "name": "stdout",
     "output_type": "stream",
     "text": [
      "POST: https://api-dev-2.discover.digitalglobe.com/v2/stac/catalog\n",
      "HTTP Status: 500\n",
      "Request ID: 50af0ce3-451d-4e46-9b55-071e44d85f1f\n",
      "Elapsed seconds: 3.501035\n"
     ]
    },
    {
     "ename": "StacException",
     "evalue": "A database exception occurred (Request ID: 50af0ce3-451d-4e46-9b55-071e44d85f1f)",
     "output_type": "error",
     "traceback": [
      "\u001b[1;31m---------------------------------------------------------------------------\u001b[0m",
      "\u001b[1;31mStacException\u001b[0m                             Traceback (most recent call last)",
      "\u001b[1;32m<ipython-input-5-dcc33f501c93>\u001b[0m in \u001b[0;36m<module>\u001b[1;34m()\u001b[0m\n\u001b[0;32m     14\u001b[0m     \u001b[1;34m'stac_item_schema'\u001b[0m\u001b[1;33m:\u001b[0m \u001b[0mschema\u001b[0m\u001b[1;33m\u001b[0m\u001b[0m\n\u001b[0;32m     15\u001b[0m }\n\u001b[1;32m---> 16\u001b[1;33m \u001b[0mstac\u001b[0m\u001b[1;33m.\u001b[0m\u001b[0minsert_catalog\u001b[0m\u001b[1;33m(\u001b[0m\u001b[0mcatalog\u001b[0m\u001b[1;33m)\u001b[0m\u001b[1;33m\u001b[0m\u001b[0m\n\u001b[0m",
      "\u001b[1;32mC:\\src\\git\\goose-python-client\\dgcatalog\\stac.py\u001b[0m in \u001b[0;36minsert_catalog\u001b[1;34m(self, catalog)\u001b[0m\n\u001b[0;32m    160\u001b[0m         \"\"\"\n\u001b[0;32m    161\u001b[0m         \u001b[0murl\u001b[0m \u001b[1;33m=\u001b[0m \u001b[0mself\u001b[0m\u001b[1;33m.\u001b[0m\u001b[0m_make_url\u001b[0m\u001b[1;33m(\u001b[0m\u001b[1;34m'catalog'\u001b[0m\u001b[1;33m)\u001b[0m\u001b[1;33m\u001b[0m\u001b[0m\n\u001b[1;32m--> 162\u001b[1;33m         \u001b[0mself\u001b[0m\u001b[1;33m.\u001b[0m\u001b[0m_post\u001b[0m\u001b[1;33m(\u001b[0m\u001b[0murl\u001b[0m\u001b[1;33m,\u001b[0m \u001b[0mjson\u001b[0m\u001b[1;33m=\u001b[0m\u001b[0mcatalog\u001b[0m\u001b[1;33m)\u001b[0m\u001b[1;33m\u001b[0m\u001b[0m\n\u001b[0m\u001b[0;32m    163\u001b[0m \u001b[1;33m\u001b[0m\u001b[0m\n\u001b[0;32m    164\u001b[0m     \u001b[1;32mdef\u001b[0m \u001b[0mget_catalog\u001b[0m\u001b[1;33m(\u001b[0m\u001b[0mself\u001b[0m\u001b[1;33m,\u001b[0m \u001b[0mcatalog_id\u001b[0m\u001b[1;33m=\u001b[0m\u001b[1;32mNone\u001b[0m\u001b[1;33m)\u001b[0m\u001b[1;33m:\u001b[0m\u001b[1;33m\u001b[0m\u001b[0m\n",
      "\u001b[1;32mC:\\src\\git\\goose-python-client\\dgcatalog\\stac.py\u001b[0m in \u001b[0;36m_post\u001b[1;34m(self, url, **kwargs)\u001b[0m\n\u001b[0;32m    433\u001b[0m         \u001b[1;32mwith\u001b[0m \u001b[0mself\u001b[0m\u001b[1;33m.\u001b[0m\u001b[0mtimer\u001b[0m\u001b[1;33m(\u001b[0m\u001b[1;33m)\u001b[0m\u001b[1;33m:\u001b[0m\u001b[1;33m\u001b[0m\u001b[0m\n\u001b[0;32m    434\u001b[0m             \u001b[0mself\u001b[0m\u001b[1;33m.\u001b[0m\u001b[0m_message\u001b[0m\u001b[1;33m(\u001b[0m\u001b[1;34m'POST: {}'\u001b[0m\u001b[1;33m.\u001b[0m\u001b[0mformat\u001b[0m\u001b[1;33m(\u001b[0m\u001b[0murl\u001b[0m\u001b[1;33m)\u001b[0m\u001b[1;33m)\u001b[0m\u001b[1;33m\u001b[0m\u001b[0m\n\u001b[1;32m--> 435\u001b[1;33m             \u001b[1;32mreturn\u001b[0m \u001b[0mself\u001b[0m\u001b[1;33m.\u001b[0m\u001b[0m_handle_response\u001b[0m\u001b[1;33m(\u001b[0m\u001b[0mrequests\u001b[0m\u001b[1;33m.\u001b[0m\u001b[0mpost\u001b[0m\u001b[1;33m(\u001b[0m\u001b[0murl\u001b[0m\u001b[1;33m,\u001b[0m \u001b[1;33m**\u001b[0m\u001b[0mkwargs\u001b[0m\u001b[1;33m,\u001b[0m \u001b[0mheaders\u001b[0m\u001b[1;33m=\u001b[0m\u001b[0mself\u001b[0m\u001b[1;33m.\u001b[0m\u001b[0m_create_http_headers\u001b[0m\u001b[1;33m(\u001b[0m\u001b[1;33m)\u001b[0m\u001b[1;33m)\u001b[0m\u001b[1;33m)\u001b[0m\u001b[1;33m\u001b[0m\u001b[0m\n\u001b[0m\u001b[0;32m    436\u001b[0m \u001b[1;33m\u001b[0m\u001b[0m\n\u001b[0;32m    437\u001b[0m     \u001b[1;32mdef\u001b[0m \u001b[0m_put\u001b[0m\u001b[1;33m(\u001b[0m\u001b[0mself\u001b[0m\u001b[1;33m,\u001b[0m \u001b[0murl\u001b[0m\u001b[1;33m,\u001b[0m \u001b[1;33m**\u001b[0m\u001b[0mkwargs\u001b[0m\u001b[1;33m)\u001b[0m\u001b[1;33m:\u001b[0m\u001b[1;33m\u001b[0m\u001b[0m\n",
      "\u001b[1;32mC:\\src\\git\\goose-python-client\\dgcatalog\\stac.py\u001b[0m in \u001b[0;36m_handle_response\u001b[1;34m(self, response)\u001b[0m\n\u001b[0;32m    520\u001b[0m             \u001b[1;32mif\u001b[0m \u001b[1;32mnot\u001b[0m \u001b[0mmessage\u001b[0m\u001b[1;33m:\u001b[0m\u001b[1;33m\u001b[0m\u001b[0m\n\u001b[0;32m    521\u001b[0m                 \u001b[0mmessage\u001b[0m \u001b[1;33m=\u001b[0m \u001b[1;34m'Error in catalog response.'\u001b[0m\u001b[1;33m\u001b[0m\u001b[0m\n\u001b[1;32m--> 522\u001b[1;33m             \u001b[1;32mraise\u001b[0m \u001b[0mStacException\u001b[0m\u001b[1;33m(\u001b[0m\u001b[0mmessage\u001b[0m\u001b[1;33m,\u001b[0m \u001b[0mresponse\u001b[0m\u001b[1;33m,\u001b[0m \u001b[0mrequest_id\u001b[0m\u001b[1;33m)\u001b[0m\u001b[1;33m\u001b[0m\u001b[0m\n\u001b[0m\u001b[0;32m    523\u001b[0m \u001b[1;33m\u001b[0m\u001b[0m\n\u001b[0;32m    524\u001b[0m         \u001b[1;31m# Unrecognized HTTP status code\u001b[0m\u001b[1;33m\u001b[0m\u001b[1;33m\u001b[0m\u001b[0m\n",
      "\u001b[1;31mStacException\u001b[0m: A database exception occurred (Request ID: 50af0ce3-451d-4e46-9b55-071e44d85f1f)"
     ]
    }
   ],
   "source": [
    "schema = json.loads(requests.get('http://geojson.org/schema/Feature.json').text)\n",
    "\n",
    "catalog = {\n",
    "    'stac_version': '0.6.0',\n",
    "    'id': 'chris',\n",
    "    'title': 'Chris test',\n",
    "    'description': 'DigitalGlobe WV images',\n",
    "    'links': [\n",
    "        {\n",
    "            'rel': 'self',\n",
    "            'href': 'https://api.discover.digitalglobe.com/v2/stac/catalog/chris'\n",
    "        }\n",
    "    ],\n",
    "    'stac_item_schema': schema\n",
    "}\n",
    "stac.insert_catalog(catalog)"
   ]
  },
  {
   "cell_type": "code",
   "execution_count": null,
   "metadata": {},
   "outputs": [],
   "source": [
    "catalog = stac.get_catalog('wv')"
   ]
  },
  {
   "cell_type": "code",
   "execution_count": null,
   "metadata": {},
   "outputs": [],
   "source": [
    "pprint(catalog, depth=1)"
   ]
  },
  {
   "cell_type": "markdown",
   "metadata": {},
   "source": [
    "Catalogs can be updated.  A catalog's ID cannot be changed but its other properties can, including its schema.\n",
    "Note that if a catalog's schema is modified existing items in the catalog are not revalidated against the new schema."
   ]
  },
  {
   "cell_type": "code",
   "execution_count": null,
   "metadata": {},
   "outputs": [],
   "source": [
    "catalog['description'] = 'DigitalGlobe WorldView 4 images'\n",
    "stac.update_catalog(catalog)"
   ]
  },
  {
   "cell_type": "markdown",
   "metadata": {},
   "source": [
    "## Working with STAC items"
   ]
  },
  {
   "cell_type": "markdown",
   "metadata": {},
   "source": [
    "For this tutorial we will copy a few catalog records from the DUC database to the Goose database.  We will\n",
    "use the `duc_get_image` function in the `dgcatalog.tools` module.  It reads an image's catalog\n",
    "metadata from the DUC catalog service and returns it as a STAC item."
   ]
  },
  {
   "cell_type": "code",
   "execution_count": null,
   "metadata": {},
   "outputs": [],
   "source": [
    "from dgcatalog.tools import duc_get_image, duc_query"
   ]
  },
  {
   "cell_type": "code",
   "execution_count": null,
   "metadata": {},
   "outputs": [],
   "source": [
    "item = duc_get_image(image_id='10400100108FCE00')"
   ]
  },
  {
   "cell_type": "code",
   "execution_count": null,
   "metadata": {},
   "outputs": [],
   "source": [
    "pprint(item, depth=1)"
   ]
  },
  {
   "cell_type": "markdown",
   "metadata": {},
   "source": [
    "Inserting a new item into a catalog:"
   ]
  },
  {
   "cell_type": "markdown",
   "metadata": {},
   "source": [
    "Use head_item to perform an HTTP HEAD operation and determine whether a STAC item exists."
   ]
  },
  {
   "cell_type": "code",
   "execution_count": null,
   "metadata": {},
   "outputs": [],
   "source": [
    "stac.head_item()"
   ]
  },
  {
   "cell_type": "code",
   "execution_count": null,
   "metadata": {},
   "outputs": [],
   "source": [
    "stac.insert_item(item, 'wv')"
   ]
  },
  {
   "cell_type": "code",
   "execution_count": null,
   "metadata": {},
   "outputs": [],
   "source": [
    "item = stac.get_item('10400100108FCE00')"
   ]
  },
  {
   "cell_type": "code",
   "execution_count": null,
   "metadata": {},
   "outputs": [],
   "source": [
    "image_ids = [\"10200100782DBA00\", \"103001008817BC00\", \"102001007FB83A00\", \"102001007D14CD00\", \"102001007C528D00\"]\n",
    "items = duc_get_image(image_ids=image_ids)\n",
    "stac.insert_items(items, 'wv')"
   ]
  },
  {
   "cell_type": "markdown",
   "metadata": {},
   "source": [
    "Let's create some test data to search on.  Select a month's worth of WV04 images from DUC and insert them into the Goose \"wv\" catalog:"
   ]
  },
  {
   "cell_type": "code",
   "execution_count": null,
   "metadata": {},
   "outputs": [],
   "source": [
    "items = duc_query(\"collect_time_start >= '2017-01-01' and collect_time_start <= '2017-02-01' and vehicle_name = 'WV04'\")"
   ]
  },
  {
   "cell_type": "code",
   "execution_count": null,
   "metadata": {},
   "outputs": [],
   "source": [
    "len(items)"
   ]
  },
  {
   "cell_type": "code",
   "execution_count": null,
   "metadata": {},
   "outputs": [],
   "source": [
    "stac.insert_items(items, 'wv')"
   ]
  },
  {
   "cell_type": "markdown",
   "metadata": {},
   "source": [
    "## Working with item attachments"
   ]
  },
  {
   "cell_type": "markdown",
   "metadata": {},
   "source": [
    "The catalog supports associating an arbitrary JSON object with each STAC item called its \"attachments.\"  Propeties in the attachments are used to associate metadata with a STAC item that's not included in the item's feature itself.\n",
    "\n",
    "Some attachment properties may be recognized by the catalog itself.  For now the only such property is \"data-access-profile\".\n",
    "\n",
    "When inserting multiple STAC items using a feature collection you can specify an attachments property that is copied to each newly inserted item."
   ]
  },
  {
   "cell_type": "code",
   "execution_count": null,
   "metadata": {},
   "outputs": [],
   "source": [
    "image_ids = ['10500100144DD900', '102001008164D600', '1020010080207100']\n",
    "items = duc_get_image(image_ids=image_ids)\n",
    "\n",
    "attachments = {\n",
    "    'data-access-profile': {\n",
    "        'policies': [\n",
    "            {\n",
    "                'startDate': '2019-02-01T00:00:00Z',\n",
    "                'endDate': '2019-03-01T00:00:00Z',\n",
    "                'allow': ['customer.001'],\n",
    "                'deny': []\n",
    "            },\n",
    "            {\n",
    "                'startDate': '2019-03-01T00:00:00Z',\n",
    "                'endDate': '9999-12-31T23:59:59Z',\n",
    "                'allow': ['dataaccess.public'],\n",
    "                'deny': []\n",
    "            }\n",
    "        ]\n",
    "    }\n",
    "}\n",
    "\n",
    "stac.insert_items(items, 'wv', attachments)"
   ]
  },
  {
   "cell_type": "markdown",
   "metadata": {},
   "source": [
    "Get the attachments for one of the images just inserted."
   ]
  },
  {
   "cell_type": "code",
   "execution_count": null,
   "metadata": {},
   "outputs": [],
   "source": [
    "att = stac.get_attachments('10500100144DD900', 'wv')"
   ]
  },
  {
   "cell_type": "code",
   "execution_count": null,
   "metadata": {},
   "outputs": [],
   "source": [
    "att"
   ]
  },
  {
   "cell_type": "markdown",
   "metadata": {},
   "source": [
    "You can update an item's attachments.  Here we remove the first policy in the array and associate it back with the item:"
   ]
  },
  {
   "cell_type": "code",
   "execution_count": null,
   "metadata": {},
   "outputs": [],
   "source": [
    "att['data-access-profile']['policies'].pop(0)"
   ]
  },
  {
   "cell_type": "code",
   "execution_count": null,
   "metadata": {},
   "outputs": [],
   "source": [
    "stac.update_attachments('10500100144DD900', 'wv', att)"
   ]
  },
  {
   "cell_type": "markdown",
   "metadata": {},
   "source": [
    "Read it back to make sure it was updated."
   ]
  },
  {
   "cell_type": "code",
   "execution_count": null,
   "metadata": {},
   "outputs": [],
   "source": [
    "att = stac.get_attachments('10500100144DD900', 'wv')"
   ]
  },
  {
   "cell_type": "code",
   "execution_count": null,
   "metadata": {},
   "outputs": [],
   "source": [
    "att"
   ]
  },
  {
   "cell_type": "markdown",
   "metadata": {},
   "source": [
    "Each STAC item has its own attachments.  When we inserted the three images above and\n",
    "included attachments with them the attachments were copied for each STAC item.  Read the\n",
    "attachments for another of the images to see that its attachments are unchanged."
   ]
  },
  {
   "cell_type": "code",
   "execution_count": null,
   "metadata": {},
   "outputs": [],
   "source": [
    "att = stac.get_attachments('102001008164D600', 'wv')"
   ]
  },
  {
   "cell_type": "code",
   "execution_count": null,
   "metadata": {},
   "outputs": [],
   "source": [
    "att"
   ]
  },
  {
   "cell_type": "code",
   "execution_count": null,
   "metadata": {},
   "outputs": [],
   "source": [
    "stac.delete_attachments('102001008164D600', 'wv')"
   ]
  },
  {
   "cell_type": "markdown",
   "metadata": {},
   "source": [
    "## Searching catalogs"
   ]
  },
  {
   "cell_type": "markdown",
   "metadata": {},
   "source": [
    "Some notes on searching:\n",
    "    \n",
    "* A search may be performed against the entire database or against a particular catalog.\n",
    "Specify the `catalog_id` parameter in the call to `search` to search against a particular catalog, otherwise the search is against the entire database.\n",
    "* The maximum number of items returned by any search is 1000.  For larger resultsets use multiple calls to `search` with paging and ordering to retrieve the full set of results."
   ]
  },
  {
   "cell_type": "markdown",
   "metadata": {},
   "source": [
    "### Searching by date and time\n",
    "Note that when search by datetime the start is inclusive and the end is exclusive."
   ]
  },
  {
   "cell_type": "code",
   "execution_count": null,
   "metadata": {},
   "outputs": [],
   "source": [
    "from datetime import datetime\n",
    "items = stac.search(catalog_id='wv', start_datetime=datetime(2017, 1, 1), end_datetime=datetime(2017, 1, 2))"
   ]
  },
  {
   "cell_type": "code",
   "execution_count": null,
   "metadata": {},
   "outputs": [],
   "source": [
    "stac._last_response.text"
   ]
  },
  {
   "cell_type": "markdown",
   "metadata": {},
   "source": [
    "### Searching with a property filter\n",
    "\n",
    "Use the `query` parameter to filter results.  Filtering is performed on the server side against properties in the STAC item's \"properties\" dictionary.\n",
    "\n",
    "The general form of a query filter is \"property operation value\".\n",
    "\n",
    "* \"property\" is the name of a STAC item property\n",
    "* \"operation\" is one of the following:\n",
    "    * Comparison operators:  =, !=, <>, <, >, <=, >=\n",
    "    * \"is\" and \"is not\" for comparing with booleans and null.\n",
    "    * \"like\" and \"not like\" for comparing strings with SQL patterns.\n",
    "    * \"in\" for comparing with a list of integers or strings.\n",
    "* \"value\" is a number, string, boolean, or null.\n",
    "    * Exponential notation for floating-point values is not supported.\n",
    "    * Strings are delimited by single quotes.  There is no facility for escaping single quotes inside the string or for any other escape sequences.\n",
    "    * A boolean value is \"true\" or \"false\", specified without quotes, and case-insensitive.\n",
    "    * A null value is \"null\", specified without quotes, and case-insensitive.\n",
    "\n",
    "Filters can be combined using the operators \"and\" and \"or\".  The \"and\" operator takes precedence over the \"or\" operator.  Parenthesis can be used when combining filters with \"and\" and \"or\".\n",
    "\n",
    "String comparisons are case-sensitive.\n",
    "\n",
    "These are examples of valid query filters:\n",
    "\n",
    "* vendor = 'DigitalGlobe'\n",
    "* eo:cloud_cover < 20\n",
    "* dg:rda_available is true\n",
    "* dg:rda_available is false\n",
    "* eo:gsd < 1.5\n",
    "* eo:epsg is null\n",
    "* eo:epsg in (32613, 26913, 26914)\n",
    "* dg:sun_elevation_min < 20 and dg:sun_azimuth_max < 30\n",
    "* (vendor = 'DigitalGlobe' and eo:platform = 'WORLDVIEW02') or (vendor = 'KOMPSAT' and eo:platform = 'KOMPSAT3A')\n",
    "\n",
    "It is not an error to specify a property that an item doesn't have, but the item will\n",
    "not be returned by the query no matter what other filters are provided.\n",
    "\n",
    "Properties with nested values are not currently supported for filtering on.\n",
    "\n",
    "A property filter is not intended to search on an item's `datetime` property.\n",
    "Use the start_datetime and end_datetime seach parameters for that.\n",
    "    "
   ]
  },
  {
   "cell_type": "code",
   "execution_count": null,
   "metadata": {},
   "outputs": [],
   "source": [
    "items = stac.search(start_datetime=datetime(2015, 1, 1), end_datetime=datetime(2016, 1, 1), query='eo:cloud < 10')"
   ]
  },
  {
   "cell_type": "code",
   "execution_count": null,
   "metadata": {},
   "outputs": [],
   "source": [
    "len(items)"
   ]
  }
 ],
 "metadata": {
  "kernelspec": {
   "display_name": "Python 3",
   "language": "python",
   "name": "python3"
  },
  "language_info": {
   "codemirror_mode": {
    "name": "ipython",
    "version": 3
   },
   "file_extension": ".py",
   "mimetype": "text/x-python",
   "name": "python",
   "nbconvert_exporter": "python",
   "pygments_lexer": "ipython3",
   "version": "3.6.6"
  }
 },
 "nbformat": 4,
 "nbformat_minor": 2
}
