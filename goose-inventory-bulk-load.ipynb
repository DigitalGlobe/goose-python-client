{
 "cells": [
  {
   "cell_type": "markdown",
   "metadata": {},
   "source": [
    "# Goose inventory bulk load"
   ]
  },
  {
   "cell_type": "markdown",
   "metadata": {},
   "source": [
    "This notebook describes how WV04 images from the P2020 inventory service were bulk-loaded into the Goose database.\n",
    "\n",
    "There are about 195,000 WV04 images in the inventory database.\n",
    "\n",
    "In the goose-python-client repo is the Python package dgloader which contains code for loading images in the P2020 inventory service into the Goose database.\n",
    "\n",
    "The dgloader package uses these standard P2020 environment variables when obtaining a token for using P2020 service:\n",
    "\n",
    "* P2020_IDENTITY_TOKEN_SERVER\n",
    "* P2020_IDENTITY_CLIENT_ID\n",
    "* P2020_IDENTITY_CLIENT_SECRET\n",
    "\n",
    "You must have these environment variables set before running functions in the dgloader package.  You must also set these environment variables before executing this notebook.  If you start Jupyter Lab from a shell then set the environment variables in the shell before running jupyter lab."
   ]
  },
  {
   "cell_type": "code",
   "execution_count": 1,
   "metadata": {},
   "outputs": [],
   "source": [
    "from dgloader import inventory"
   ]
  },
  {
   "cell_type": "markdown",
   "metadata": {},
   "source": [
    "Make sure P2020 environment variables are set before continuing.  Just print their names not their values.  In particular we don't want the value of P2020_IDENTITY_CLIENT_SECRET displayed."
   ]
  },
  {
   "cell_type": "code",
   "execution_count": 2,
   "metadata": {},
   "outputs": [
    {
     "ename": "AssertionError",
     "evalue": "",
     "output_type": "error",
     "traceback": [
      "\u001b[1;31m---------------------------------------------------------------------------\u001b[0m",
      "\u001b[1;31mAssertionError\u001b[0m                            Traceback (most recent call last)",
      "\u001b[1;32m<ipython-input-2-5c3c4017db38>\u001b[0m in \u001b[0;36m<module>\u001b[1;34m()\u001b[0m\n\u001b[0;32m      1\u001b[0m \u001b[1;32mimport\u001b[0m \u001b[0mos\u001b[0m\u001b[1;33m\u001b[0m\u001b[0m\n\u001b[1;32m----> 2\u001b[1;33m \u001b[1;32massert\u001b[0m \u001b[1;34m'P2020_IDENTITY_TOKEN_SERVER'\u001b[0m \u001b[1;32min\u001b[0m \u001b[0mos\u001b[0m\u001b[1;33m.\u001b[0m\u001b[0menviron\u001b[0m\u001b[1;33m.\u001b[0m\u001b[0mkeys\u001b[0m\u001b[1;33m(\u001b[0m\u001b[1;33m)\u001b[0m\u001b[1;33m\u001b[0m\u001b[0m\n\u001b[0m\u001b[0;32m      3\u001b[0m \u001b[1;32massert\u001b[0m \u001b[1;34m'P2020_IDENTITY_CLIENT_ID'\u001b[0m \u001b[1;32min\u001b[0m \u001b[0mos\u001b[0m\u001b[1;33m.\u001b[0m\u001b[0menviron\u001b[0m\u001b[1;33m.\u001b[0m\u001b[0mkeys\u001b[0m\u001b[1;33m(\u001b[0m\u001b[1;33m)\u001b[0m\u001b[1;33m\u001b[0m\u001b[0m\n\u001b[0;32m      4\u001b[0m \u001b[1;32massert\u001b[0m \u001b[1;34m'P2020_IDENTITY_CLIENT_SECRET'\u001b[0m \u001b[1;32min\u001b[0m \u001b[0mos\u001b[0m\u001b[1;33m.\u001b[0m\u001b[0menviron\u001b[0m\u001b[1;33m.\u001b[0m\u001b[0mkeys\u001b[0m\u001b[1;33m(\u001b[0m\u001b[1;33m)\u001b[0m\u001b[1;33m\u001b[0m\u001b[0m\n",
      "\u001b[1;31mAssertionError\u001b[0m: "
     ]
    }
   ],
   "source": [
    "import os\n",
    "assert 'P2020_IDENTITY_TOKEN_SERVER' in os.environ.keys()\n",
    "assert 'P2020_IDENTITY_CLIENT_ID' in os.environ.keys()\n",
    "assert 'P2020_IDENTITY_CLIENT_SECRET' in os.environ.keys()"
   ]
  },
  {
   "cell_type": "markdown",
   "metadata": {},
   "source": [
    "## The dg catalog\n",
    "\n",
    "In the Goose database we use a catalog named \"dg\" to contain DigitalGlobe imagery.  Make sure this catalog exists before we bulk load images into it.  Also make sure the catalog has the correct JSON schema associated with it.  The file dgloader/schemas/dg-stac-item-schema.json is the JSON schema we validate DigitalGlobe STAC items against.\n",
    "\n",
    "Start by connecting to the Goose service:"
   ]
  },
  {
   "cell_type": "code",
   "execution_count": 2,
   "metadata": {},
   "outputs": [
    {
     "name": "stdin",
     "output_type": "stream",
     "text": [
      "Password:  ············\n"
     ]
    },
    {
     "name": "stdout",
     "output_type": "stream",
     "text": [
      "Requesting token from https://geobigdata.io/auth/v1/oauth/token\n",
      "Token successfully received.\n"
     ]
    }
   ],
   "source": [
    "from dgcatalog import Stac\n",
    "\n",
    "# Pick a service URL depending on the environment you're using\n",
    "# service_url = 'https://api-test-2.discover.digitalglobe.com/v2/stac'\n",
    "# service_url = 'https://api-dev-2.discover.digitalglobe.com/v2/stac'\n",
    "service_url = 'https://api-2.discover.digitalglobe.com/v2/stac'\n",
    "\n",
    "stac = Stac(url=service_url, username='super_tester@mailinator.com', verbose=True)"
   ]
  },
  {
   "cell_type": "markdown",
   "metadata": {},
   "source": [
    "The following code checks to see if the \"dg\" catalog exists.  If it does then it is updated to use the current version of the DG JSON schema.  If the \"dg\" catalog does not exist then it is created."
   ]
  },
  {
   "cell_type": "code",
   "execution_count": 4,
   "metadata": {},
   "outputs": [
    {
     "name": "stdout",
     "output_type": "stream",
     "text": [
      "Reading DG JSON schema file dgloader/schemas/dg-stac-item-schema.json\n",
      "Get catalog catalog_id=dg\n",
      "GET: https://api-2.discover.digitalglobe.com/v2/stac/catalog/dg\n",
      "HTTP Status: 404\n",
      "Request ID: b0b83757-afaf-487a-89a3-a60ad6e3b6f0\n",
      "Catalog dg does not exist, creating it\n",
      "POST: https://api-2.discover.digitalglobe.com/v2/stac/catalog\n",
      "HTTP Status: 201\n",
      "Request ID: 9c022f4f-a3d5-4c1e-a42b-c550bb3120e1\n"
     ]
    }
   ],
   "source": [
    "# Read the DG JSON schema file\n",
    "import json\n",
    "import urllib.parse\n",
    "dg_schema_filename = 'dgloader/schemas/dg-stac-item-schema.json'\n",
    "print('Reading DG JSON schema file {}'.format(dg_schema_filename))\n",
    "with open(dg_schema_filename, 'r') as f:\n",
    "    dg_schema = json.load(f)\n",
    "\n",
    "# Try reading the dg catalog, and update its schema if it exists\n",
    "try:\n",
    "    dg_catalog = stac.get_catalog(catalog_id='dg')\n",
    "    print('Catalog dg exists.  Updating its schema.')\n",
    "    dg_catalog['stac_item_schema'] = dg_schema\n",
    "    stac.update_catalog(dg_catalog)\n",
    "# Catalog doesn't exist so create it\n",
    "except:\n",
    "    print('Catalog dg does not exist, creating it')\n",
    "    dg_catalog = {\n",
    "        'id': 'dg',\n",
    "        'stac_version': '0.6.0',\n",
    "        'title': 'DigitalGlobe',\n",
    "        'description': 'DigitalGlobe STAC catalog',\n",
    "        'links': [\n",
    "            {\n",
    "                'rel': 'self',\n",
    "                'href': urllib.parse.urljoin(service_url, 'catalog/dg')\n",
    "            }\n",
    "        ],\n",
    "        'stac_item_schema': dg_schema\n",
    "    }\n",
    "    stac.insert_catalog(dg_catalog)"
   ]
  },
  {
   "cell_type": "markdown",
   "metadata": {},
   "source": [
    "# Goose loader\n",
    "\n",
    "The Goose Loader is a small system in AWS used for bulk loading of STAC items.  It just consists of an SQS queue and a Lambda function that procesess items in the queue.  To load a large number of STAC items into the goose database just insert them into the queue.  The Lambda function will in time insert them into the database.\n",
    "\n",
    "There is also a dead-letter queue to handle items that the Lambda function failed to insert.\n",
    "\n",
    "The items you put in the queue may be STAC items or may be JSON feature collections, where each feature in the collection is a STAC item.\n",
    "\n",
    "When inserting items in the queue you must use an SQS message attribute to indicate which catalog to insert the item into.  A STAC item or JSON feature collection has no place to specify what catalog is to be used, so an SQS attribute is used for this instead.  Use a single attribute named \"dg\", of type string, and with a value of the name of the catalog."
   ]
  },
  {
   "cell_type": "code",
   "execution_count": null,
   "metadata": {},
   "outputs": [],
   "source": []
  }
 ],
 "metadata": {
  "kernelspec": {
   "display_name": "Python 3",
   "language": "python",
   "name": "python3"
  },
  "language_info": {
   "codemirror_mode": {
    "name": "ipython",
    "version": 3
   },
   "file_extension": ".py",
   "mimetype": "text/x-python",
   "name": "python",
   "nbconvert_exporter": "python",
   "pygments_lexer": "ipython3",
   "version": "3.6.6"
  }
 },
 "nbformat": 4,
 "nbformat_minor": 2
}
