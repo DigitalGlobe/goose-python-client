{
 "cells": [
  {
   "cell_type": "markdown",
   "metadata": {},
   "source": [
    "# Goose Catalog Tests"
   ]
  },
  {
   "cell_type": "code",
   "execution_count": 1,
   "metadata": {},
   "outputs": [],
   "source": [
    "from dgcatalog import Stac\n",
    "from pprint import pprint"
   ]
  },
  {
   "cell_type": "code",
   "execution_count": 2,
   "metadata": {},
   "outputs": [],
   "source": [
    "# service_url = 'https://api-test-2.discover.digitalglobe.com/v2/stac'\n",
    "# service_url = 'https://api-dev-2.discover.digitalglobe.com/v2/stac'\n",
    "service_url = 'https://api-2.discover.digitalglobe.com/v2/stac'"
   ]
  },
  {
   "cell_type": "code",
   "execution_count": 3,
   "metadata": {},
   "outputs": [
    {
     "name": "stdout",
     "output_type": "stream",
     "text": [
      "Password: ········\n",
      "Requesting token from https://geobigdata.io/auth/v1/oauth/token\n",
      "Token successfully received.\n"
     ]
    }
   ],
   "source": [
    "stac = Stac(url=service_url, username='super_tester@mailinator.com', verbose=True)"
   ]
  },
  {
   "cell_type": "code",
   "execution_count": 4,
   "metadata": {},
   "outputs": [
    {
     "name": "stdout",
     "output_type": "stream",
     "text": [
      "GET: https://api-2.discover.digitalglobe.com/v2/stac/catalog/dg/item/b3417a97-7330-48e3-80dd-051da887b675-inv\n",
      "HTTP Status: 200\n",
      "Request ID: 7cd117ec-bfa4-4ba7-86e2-77459dedbe78\n"
     ]
    }
   ],
   "source": [
    "item = stac.get_item('b3417a97-7330-48e3-80dd-051da887b675-inv', 'dg')"
   ]
  },
  {
   "cell_type": "code",
   "execution_count": 5,
   "metadata": {},
   "outputs": [
    {
     "data": {
      "text/plain": [
       "{'id': 'b3417a97-7330-48e3-80dd-051da887b675-inv',\n",
       " 'type': 'Feature',\n",
       " 'links': [{'rel': 'self',\n",
       "   'href': 'https://api.discover.digitalglobe.com/v2/stac/catalog/dg/item/b3417a97-7330-48e3-80dd-051da887b675-inv'}],\n",
       " 'assets': {},\n",
       " 'geometry': {'type': 'Polygon',\n",
       "  'coordinates': [[[81.2132746252868, 23.7182044180652],\n",
       "    [81.2132702483554, 23.7136896053545],\n",
       "    [81.2132864649311, 23.683489827451],\n",
       "    [81.2132680765562, 23.652111682379],\n",
       "    [81.2132723695802, 23.6208160388165],\n",
       "    [81.2132558880101, 23.5894526323585],\n",
       "    [81.213215660183, 23.5580147905271],\n",
       "    [81.2131978461551, 23.5266443377573],\n",
       "    [81.213155857215, 23.5041635610116],\n",
       "    [81.2131439543627, 23.4851531396483],\n",
       "    [81.2131432244265, 23.4840369384417],\n",
       "    [81.2131508276365, 23.4638803072213],\n",
       "    [81.2131309364193, 23.4325092590855],\n",
       "    [81.2130872653553, 23.4010620594974],\n",
       "    [81.213063586694, 23.3696830599068],\n",
       "    [81.2130496342369, 23.3596292475659],\n",
       "    [81.2130207069914, 23.3382540356907],\n",
       "    [81.2130249482926, 23.3069501623916],\n",
       "    [81.2129779396482, 23.2754998438699],\n",
       "    [81.2128512780447, 23.2438504120634],\n",
       "    [81.2128217274997, 23.2389450617547],\n",
       "    [81.2128032458791, 23.2337084468703],\n",
       "    [81.2126576495908, 23.2020097810955],\n",
       "    [81.2126469815878, 23.1970333929529],\n",
       "    [81.2126331876798, 23.1806531147985],\n",
       "    [81.2126905958655, 23.1543794149955],\n",
       "    [81.212781890845, 23.1397014445152],\n",
       "    [81.2127462792623, 23.1283148282766],\n",
       "    [81.2127674318528, 23.1183615776405],\n",
       "    [81.2126708862525, 23.1053532723739],\n",
       "    [81.2125559850318, 23.0793437492879],\n",
       "    [81.2126416289368, 23.0553930682791],\n",
       "    [81.2125221081779, 23.023773799207],\n",
       "    [81.2123964312484, 22.9921528606086],\n",
       "    [81.2125376081966, 22.9611763864905],\n",
       "    [81.2125422304365, 22.9528788182878],\n",
       "    [81.2125546149342, 22.9511982911568],\n",
       "    [81.2125524275838, 22.9345735099663],\n",
       "    [81.2125550322394, 22.9298977882654],\n",
       "    [81.2125513298975, 22.9262306330079],\n",
       "    [81.212550492599, 22.9198668128828],\n",
       "    [81.2125405454137, 22.9155486436958],\n",
       "    [81.2125233254864, 22.8984923726969],\n",
       "    [81.2124574713037, 22.8738208958158],\n",
       "    [81.3496257652238, 22.8803579877269],\n",
       "    [81.3495929477497, 22.9047949444502],\n",
       "    [81.3495448152995, 22.936006269318],\n",
       "    [81.3496844234028, 22.9675796268777],\n",
       "    [81.349704719236, 22.9989115520077],\n",
       "    [81.3497403981977, 23.0302808297356],\n",
       "    [81.3497013319601, 23.06150456344],\n",
       "    [81.3497113524102, 23.0928261073423],\n",
       "    [81.3498854972401, 23.12448480526],\n",
       "    [81.3500190488629, 23.156055332354],\n",
       "    [81.3500783099737, 23.1874710759478],\n",
       "    [81.3501208081699, 23.2188537955958],\n",
       "    [81.3501734193564, 23.2502609014605],\n",
       "    [81.3502095967327, 23.2816283439234],\n",
       "    [81.3502172431257, 23.3129358920762],\n",
       "    [81.3502563462222, 23.3443053362011],\n",
       "    [81.3502610006363, 23.375596091698],\n",
       "    [81.350263447871, 23.4068795914238],\n",
       "    [81.3503168590059, 23.4382877728005],\n",
       "    [81.3503026821464, 23.4695339301962],\n",
       "    [81.3502803933855, 23.5007492480046],\n",
       "    [81.3502678748024, 23.5319967018922],\n",
       "    [81.3502742314472, 23.5632846496065],\n",
       "    [81.3503110689988, 23.594647176103],\n",
       "    [81.3503167707227, 23.6259260760117],\n",
       "    [81.3503552486368, 23.6572800425885],\n",
       "    [81.3503548458388, 23.6885508779336],\n",
       "    [81.350343061872, 23.7197879015689],\n",
       "    [81.3503440144087, 23.7510538148638],\n",
       "    [81.3503390988561, 23.7823002099276],\n",
       "    [81.350346638985, 23.8135816912523],\n",
       "    [81.3503691971597, 23.8449122150143],\n",
       "    [81.3503881256569, 23.8762266802818],\n",
       "    [81.3503911600884, 23.9074975267871],\n",
       "    [81.3504005362929, 23.9387903332903],\n",
       "    [81.3503851720676, 23.9599741611724],\n",
       "    [81.2132806793322, 23.9553481077182],\n",
       "    [81.2132945473197, 23.9341045162392],\n",
       "    [81.2133179238016, 23.9028492636234],\n",
       "    [81.2133301706535, 23.871565211222],\n",
       "    [81.213310796084, 23.840174616778],\n",
       "    [81.213319313584, 23.8088676789959],\n",
       "    [81.2133085809068, 23.7775130418136],\n",
       "    [81.2133148588957, 23.7462162656974],\n",
       "    [81.2132746252868, 23.7182044180652]]]},\n",
       " 'properties': {'eo:gsd': 0.33902264246788094,\n",
       "  'vendor': 'DigitalGlobe',\n",
       "  'eo:epsg': None,\n",
       "  'datetime': '2018-12-18T05:34:40.664703Z',\n",
       "  'eo:bands': [{'name': 'blue', 'center_wavelength': 480},\n",
       "   {'name': 'green', 'center_wavelength': 545},\n",
       "   {'name': 'red', 'center_wavelength': 672.5},\n",
       "   {'name': 'nir', 'center_wavelength': 850},\n",
       "   {'name': 'pan', 'center_wavelength': 625}],\n",
       "  'dg:storage': None,\n",
       "  'eo:azimuth': 20.294027682681644,\n",
       "  'eo:platform': 'WORLDVIEW04',\n",
       "  'eo:off_nadir': 18.51694333591131,\n",
       "  'eo:instrument': 'VNIR',\n",
       "  'eo:cloud_cover': 52.356842,\n",
       "  'eo:sun_azimuth': 162.62981476559133,\n",
       "  'dg:off_nadir_end': 18.795830520221887,\n",
       "  'dg:off_nadir_max': 18.795830520221887,\n",
       "  'dg:off_nadir_min': 18.237956593153896,\n",
       "  'eo:constellation': 'WORLDVIEW',\n",
       "  'eo:sun_elevation': 41.38938164214937,\n",
       "  'dg:bits_per_pixel': 16,\n",
       "  'dg:scan_direction': 'forward',\n",
       "  'dg:off_nadir_start': 18.237956593153896,\n",
       "  'dg:sun_azimuth_max': 162.7354463376281,\n",
       "  'dg:sun_azimuth_min': 162.5338092234136,\n",
       "  'dg:collect_time_end': '2018-12-18T05:34:58.065413Z',\n",
       "  'dg:swir_association': None,\n",
       "  'dg:vnir_association': None,\n",
       "  'dg:cavis_association': None,\n",
       "  'dg:sun_elevation_max': 41.88651820665512,\n",
       "  'dg:sun_elevation_min': 40.830351602699984,\n",
       "  'dg:collect_time_start': '2018-12-18T05:34:40.664703Z',\n",
       "  'dg:pan_resolution_avg': 0.33902264246788094,\n",
       "  'dg:pan_resolution_end': 0.34043105852425426,\n",
       "  'dg:pan_resolution_max': 0.34043105852425426,\n",
       "  'dg:pan_resolution_min': 0.33795416943143075,\n",
       "  'dg:processing_options': [],\n",
       "  'dg:target_azimuth_end': 23.462058221349082,\n",
       "  'dg:target_azimuth_max': 23.462058221349082,\n",
       "  'dg:target_azimuth_min': 16.665520891733898,\n",
       "  'dg:multi_resolution_avg': 0.33902264246788094,\n",
       "  'dg:multi_resolution_end': 0.34043105852425426,\n",
       "  'dg:multi_resolution_max': 0.34043105852425426,\n",
       "  'dg:multi_resolution_min': 0.33795416943143075,\n",
       "  'dg:pan_resolution_start': 0.33795416943143075,\n",
       "  'dg:target_azimuth_start': 16.665520891733898,\n",
       "  'dg:acquisition_rev_number': 11375,\n",
       "  'dg:multi_resolution_start': 0.33795416943143075,\n",
       "  'dg:stereo_pair_identifiers': []}}"
      ]
     },
     "execution_count": 5,
     "metadata": {},
     "output_type": "execute_result"
    }
   ],
   "source": [
    "item"
   ]
  },
  {
   "cell_type": "code",
   "execution_count": 8,
   "metadata": {},
   "outputs": [],
   "source": [
    "import arcgis.features\n",
    "import json"
   ]
  },
  {
   "cell_type": "code",
   "execution_count": 9,
   "metadata": {},
   "outputs": [],
   "source": [
    "f = arcgis.features.Feature.from_json(json.dumps(item['geometry']))"
   ]
  },
  {
   "cell_type": "code",
   "execution_count": 10,
   "metadata": {},
   "outputs": [
    {
     "data": {
      "text/plain": [
       "{}"
      ]
     },
     "execution_count": 10,
     "metadata": {},
     "output_type": "execute_result"
    }
   ],
   "source": [
    "f"
   ]
  },
  {
   "cell_type": "code",
   "execution_count": 22,
   "metadata": {},
   "outputs": [],
   "source": [
    "fc = {\n",
    "    'type': 'FeatureCollection',\n",
    "    'features': [\n",
    "        item\n",
    "    ]\n",
    "}"
   ]
  },
  {
   "cell_type": "code",
   "execution_count": 25,
   "metadata": {},
   "outputs": [],
   "source": [
    "features = arcgis.features.FeatureSet.from_geojson(fc)"
   ]
  },
  {
   "cell_type": "code",
   "execution_count": 40,
   "metadata": {},
   "outputs": [
    {
     "data": {
      "text/plain": [
       "{'wkid': 4326}"
      ]
     },
     "execution_count": 40,
     "metadata": {},
     "output_type": "execute_result"
    }
   ],
   "source": [
    "features.spatial_reference"
   ]
  },
  {
   "cell_type": "code",
   "execution_count": 43,
   "metadata": {},
   "outputs": [],
   "source": [
    "from arcgis.gis import GIS\n",
    "gis = GIS()\n",
    "map = gis.map()\n",
    "map.draw(features)"
   ]
  },
  {
   "cell_type": "code",
   "execution_count": 44,
   "metadata": {},
   "outputs": [
    {
     "data": {
      "application/vnd.jupyter.widget-view+json": {
       "model_id": "7b7d5b25e7424ab98f4f3dbaf6c270b8",
       "version_major": 2,
       "version_minor": 0
      },
      "text/plain": [
       "MapView(layout=Layout(height='400px', width='100%'))"
      ]
     },
     "metadata": {},
     "output_type": "display_data"
    }
   ],
   "source": [
    "map"
   ]
  },
  {
   "cell_type": "code",
   "execution_count": 33,
   "metadata": {},
   "outputs": [
    {
     "data": {
      "text/plain": [
       "{'spatialReference': {'latestWkid': 3857, 'wkid': 102100},\n",
       " 'xmin': -22072567.126636267,\n",
       " 'ymin': -17493684.201453976,\n",
       " 'xmax': 54320433.43022767,\n",
       " 'ymax': 13814922.584145997}"
      ]
     },
     "execution_count": 33,
     "metadata": {},
     "output_type": "execute_result"
    }
   ],
   "source": [
    "map.extent"
   ]
  },
  {
   "cell_type": "code",
   "execution_count": 39,
   "metadata": {},
   "outputs": [
    {
     "ename": "AttributeError",
     "evalue": "'Feature' object has no attribute 'extent'",
     "output_type": "error",
     "traceback": [
      "\u001b[1;31m---------------------------------------------------------------------------\u001b[0m",
      "\u001b[1;31mAttributeError\u001b[0m                            Traceback (most recent call last)",
      "\u001b[1;32m<ipython-input-39-bc7a455e4de4>\u001b[0m in \u001b[0;36m<module>\u001b[1;34m()\u001b[0m\n\u001b[1;32m----> 1\u001b[1;33m \u001b[0mfeatures\u001b[0m\u001b[1;33m.\u001b[0m\u001b[0mfeatures\u001b[0m\u001b[1;33m[\u001b[0m\u001b[1;36m0\u001b[0m\u001b[1;33m]\u001b[0m\u001b[1;33m.\u001b[0m\u001b[0mextent\u001b[0m\u001b[1;33m(\u001b[0m\u001b[1;33m)\u001b[0m\u001b[1;33m\u001b[0m\u001b[0m\n\u001b[0m",
      "\u001b[1;31mAttributeError\u001b[0m: 'Feature' object has no attribute 'extent'"
     ]
    }
   ],
   "source": [
    "features.features[0].extent()"
   ]
  },
  {
   "cell_type": "code",
   "execution_count": null,
   "metadata": {},
   "outputs": [],
   "source": []
  }
 ],
 "metadata": {
  "kernelspec": {
   "display_name": "Python 3",
   "language": "python",
   "name": "python3"
  },
  "language_info": {
   "codemirror_mode": {
    "name": "ipython",
    "version": 3
   },
   "file_extension": ".py",
   "mimetype": "text/x-python",
   "name": "python",
   "nbconvert_exporter": "python",
   "pygments_lexer": "ipython3",
   "version": "3.6.6"
  }
 },
 "nbformat": 4,
 "nbformat_minor": 2
}
