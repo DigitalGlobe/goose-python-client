{
 "cells": [
  {
   "cell_type": "markdown",
   "metadata": {},
   "source": [
    "# Goose Catalog Tests"
   ]
  },
  {
   "cell_type": "code",
   "execution_count": 1,
   "metadata": {},
   "outputs": [],
   "source": [
    "from dgcatalog import Stac\n",
    "from pprint import pprint"
   ]
  },
  {
   "cell_type": "code",
   "execution_count": 2,
   "metadata": {},
   "outputs": [],
   "source": [
    "# service_url = 'https://api-test-2.discover.digitalglobe.com/v2/stac'\n",
    "# service_url = 'https://api-dev-2.discover.digitalglobe.com/v2/stac'\n",
    "service_url = 'https://api-2.discover.digitalglobe.com/v2/stac'"
   ]
  },
  {
   "cell_type": "code",
   "execution_count": 3,
   "metadata": {},
   "outputs": [
    {
     "name": "stdin",
     "output_type": "stream",
     "text": [
      "Password:  ············\n"
     ]
    },
    {
     "name": "stdout",
     "output_type": "stream",
     "text": [
      "Requesting token from https://geobigdata.io/auth/v1/oauth/token\n",
      "Token successfully received.\n"
     ]
    }
   ],
   "source": [
    "stac = Stac(url=service_url, username='super_tester@mailinator.com', verbose=True)"
   ]
  },
  {
   "cell_type": "code",
   "execution_count": 6,
   "metadata": {},
   "outputs": [
    {
     "name": "stdout",
     "output_type": "stream",
     "text": [
      "GET: https://api-2.discover.digitalglobe.com/v2/stac/catalog/dg/item/bf43c581-6a8c-473c-af66-f40dc8278029-inv\n",
      "HTTP Status: 200\n",
      "Request ID: 4b282078-f394-460f-93d0-2f9922ac0e83\n"
     ]
    }
   ],
   "source": [
    "item = stac.get_item('bf43c581-6a8c-473c-af66-f40dc8278029-inv', 'dg')"
   ]
  },
  {
   "cell_type": "code",
   "execution_count": 5,
   "metadata": {},
   "outputs": [
    {
     "data": {
      "text/plain": [
       "{'id': 'bf43c581-6a8c-473c-af66-f40dc8278029-inv',\n",
       " 'type': 'Feature',\n",
       " 'links': [{'rel': 'self',\n",
       "   'href': 'https://api.discover.digitallgobe.com/v2/stac/catalog/dg/item/bf43c581-6a8c-473c-af66-f40dc8278029-inv'}],\n",
       " 'assets': {},\n",
       " 'geometry': {'type': 'Polygon',\n",
       "  'coordinates': [[[5.87817096061438, 5.69052683647434],\n",
       "    [5.73935597498443, 5.67631177556416],\n",
       "    [5.73936013353196, 5.65101201973493],\n",
       "    [5.73935237165443, 5.61382171219677],\n",
       "    [5.73937511893543, 5.57672160400011],\n",
       "    [5.73938587546501, 5.539622574354],\n",
       "    [5.7393877688736, 5.50255543292353],\n",
       "    [5.73936992590693, 5.46546660572513],\n",
       "    [5.73935703410095, 5.42843449498684],\n",
       "    [5.73936603861068, 5.39145414670388],\n",
       "    [5.73936471885166, 5.38488396824564],\n",
       "    [5.87803311660725, 5.39966420905869],\n",
       "    [5.87803510441854, 5.40621861907609],\n",
       "    [5.87804248195734, 5.4431377625759],\n",
       "    [5.8780607910902, 5.48006968835383],\n",
       "    [5.87809055521356, 5.51707319720448],\n",
       "    [5.87810789922571, 5.55407800524153],\n",
       "    [5.87812684062786, 5.59114586506285],\n",
       "    [5.87813881411613, 5.6282276477457],\n",
       "    [5.87816045120997, 5.66532962061327],\n",
       "    [5.87817096061438, 5.69052683647434]]]},\n",
       " 'properties': {'eo:gsd': 0.3870347480073903,\n",
       "  'vendor': 'DigitalGlobe',\n",
       "  'eo:epsg': None,\n",
       "  'datetime': '2018-12-24T10:26:39.180908Z',\n",
       "  'eo:bands': [{'name': 'blue', 'center_wavelength': 480},\n",
       "   {'name': 'green', 'center_wavelength': 545},\n",
       "   {'name': 'red', 'center_wavelength': 672.5},\n",
       "   {'name': 'nir', 'center_wavelength': 850},\n",
       "   {'name': 'pan', 'center_wavelength': 625}],\n",
       "  'dg:storage': None,\n",
       "  'eo:azimuth': 17.865050835115408,\n",
       "  'eo:platform': 'WORLDVIEW04',\n",
       "  'eo:off_nadir': 28.237763987317045,\n",
       "  'eo:instrument': 'VNIR',\n",
       "  'eo:cloud_cover': 0.0,\n",
       "  'eo:sun_azimuth': 150.21708922498956,\n",
       "  'dg:off_nadir_end': 28.115285400088833,\n",
       "  'dg:off_nadir_max': 28.36374068828535,\n",
       "  'dg:off_nadir_min': 28.115285400088833,\n",
       "  'eo:constellation': 'WORLDVIEW',\n",
       "  'eo:sun_elevation': 56.460856377511355,\n",
       "  'dg:bits_per_pixel': 16,\n",
       "  'dg:scan_direction': 'forward',\n",
       "  'dg:off_nadir_start': 28.36374068828535,\n",
       "  'dg:sun_azimuth_max': 150.31825447371827,\n",
       "  'dg:sun_azimuth_min': 150.1159282812066,\n",
       "  'dg:collect_time_end': '2018-12-24T10:26:43.279250Z',\n",
       "  'dg:swir_association': None,\n",
       "  'dg:vnir_association': None,\n",
       "  'dg:cavis_association': None,\n",
       "  'dg:sun_elevation_max': 56.5956796972861,\n",
       "  'dg:sun_elevation_min': 56.32536399435408,\n",
       "  'dg:collect_time_start': '2018-12-24T10:26:39.180908Z',\n",
       "  'dg:pan_resolution_avg': 0.3870347480073903,\n",
       "  'dg:pan_resolution_end': 0.3859784482437928,\n",
       "  'dg:pan_resolution_max': 0.3878837085185476,\n",
       "  'dg:pan_resolution_min': 0.3859784482437928,\n",
       "  'dg:processing_options': [],\n",
       "  'dg:target_azimuth_end': 18.482889367772035,\n",
       "  'dg:target_azimuth_max': 18.482889367772035,\n",
       "  'dg:target_azimuth_min': 17.247022181040023,\n",
       "  'dg:multi_resolution_avg': 0.3870347480073903,\n",
       "  'dg:multi_resolution_end': 0.3859784482437928,\n",
       "  'dg:multi_resolution_max': 0.3878837085185476,\n",
       "  'dg:multi_resolution_min': 0.3859784482437928,\n",
       "  'dg:pan_resolution_start': 0.3878837085185476,\n",
       "  'dg:target_azimuth_start': 17.247022181040023,\n",
       "  'dg:acquisition_rev_number': 11467,\n",
       "  'dg:multi_resolution_start': 0.3878837085185476,\n",
       "  'dg:stereo_pair_identifiers': []}}"
      ]
     },
     "execution_count": 5,
     "metadata": {},
     "output_type": "execute_result"
    }
   ],
   "source": [
    "item"
   ]
  },
  {
   "cell_type": "code",
   "execution_count": null,
   "metadata": {},
   "outputs": [],
   "source": []
  }
 ],
 "metadata": {
  "kernelspec": {
   "display_name": "Python 3",
   "language": "python",
   "name": "python3"
  },
  "language_info": {
   "codemirror_mode": {
    "name": "ipython",
    "version": 3
   },
   "file_extension": ".py",
   "mimetype": "text/x-python",
   "name": "python",
   "nbconvert_exporter": "python",
   "pygments_lexer": "ipython3",
   "version": "3.6.6"
  }
 },
 "nbformat": 4,
 "nbformat_minor": 2
}
